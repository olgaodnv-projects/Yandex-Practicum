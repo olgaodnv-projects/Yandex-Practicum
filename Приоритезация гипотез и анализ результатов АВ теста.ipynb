{
 "cells": [
  {
   "cell_type": "markdown",
   "id": "75915f1f-50c2-49fb-a562-715d71ac8d78",
   "metadata": {},
   "source": [
    "# Приоритезация гипотез и анализ результатов А/В теста"
   ]
  },
  {
   "cell_type": "markdown",
   "id": "9f8b597e-2530-42e6-8b55-5b7b4cc14c51",
   "metadata": {},
   "source": [
    "**Бизнес-задача**\n",
    "- Оценить  наиболее ценные гипотезы с точки зрения профита для бизнеса.\n",
    "- Проанализировать результаты тестировани, чтобы принять обоснованное решение о возможных измменениях"
   ]
  },
  {
   "cell_type": "markdown",
   "id": "6731536b-b111-4ae7-b009-a8c5870cabcd",
   "metadata": {},
   "source": [
    "**Ход исследования:**\n",
    "\n",
    "1. Приоритизировать гипотезы\n",
    "2. Загрузить датасеты с результатами проведенного A/B-теста, оценить валидность предоставленных данных\n",
    "3. Подготовить сводный датафрейм с метриками, необходимыми для исследования\n",
    "4. Оценить кумулятивные  показатели тестируемых групп:\n",
    "- кумулятивная выручка по группам\n",
    "- кумулятивный средний чек по группам\n",
    "- кумулятивное средние количество заказов на посетителя по группам\n",
    "5. Оценить относительное изменение кумулятивного среднего чека и кумулятивного среднего количества заказов.\n",
    "6. Оценить наличие выбросов в данных.\n",
    "7.  Проверить гипотезы о равенстве средних чеков и количестве заказов на одного пользователя на сырых и очищенных данных.\n",
    "8. Сформировать вывод и рекомендации для бизнеса."
   ]
  },
  {
   "cell_type": "code",
   "execution_count": 1,
   "id": "01f380cf-1d4e-4b4b-9bca-88e25e0c8f6c",
   "metadata": {},
   "outputs": [],
   "source": [
    "import os\n",
    "import pandas as pd\n",
    "import numpy as np\n",
    "import sqlite3\n",
    "import matplotlib.pyplot as plt\n",
    "from matplotlib.gridspec import GridSpec\n",
    "import matplotlib.dates as mdates\n",
    "import seaborn as sns\n",
    "import plotly.express as px\n",
    "import plotly.io as pio\n",
    "import plotly.graph_objects as go\n",
    "import scipy.stats as st\n",
    "from scipy.stats import poisson\n",
    "from scipy.stats import binom\n",
    "from scipy.stats import norm\n",
    "import datetime as dt\n",
    "import scipy.stats as stats\n",
    "from sqlalchemy import create_engine\n",
    "\n",
    "# по умолчанию отображать 2 знака после запятой\n",
    "pd.options.display.float_format = '{:.2f}'.format \n",
    "\n",
    "# по умолчанию отображать до 50 колонок\n",
    "pd.options.display.max_columns = 50  \n",
    "\n",
    "# увеличиваем максимальную ширину столбца, чтобы видеть больше данных\n",
    "pd.set_option('display.max_colwidth', 130) \n",
    "\n",
    "# Отключаем уведомления о том, что в будущих версиях библиотеки будут отключены\n",
    "# warnings.filterwarnings('ignore', category=FutureWarning) \n",
    "\n",
    "import warnings\n",
    "warnings.filterwarnings(\"ignore\")"
   ]
  },
  {
   "cell_type": "markdown",
   "id": "aa1eeb0e-f2d3-4bfd-ae81-09b07d2905d8",
   "metadata": {},
   "source": [
    "## Приритезация гипотез"
   ]
  },
  {
   "cell_type": "code",
   "execution_count": 2,
   "id": "a1ecedcd-b205-45c2-8138-18c5cd103cce",
   "metadata": {},
   "outputs": [
    {
     "name": "stdout",
     "output_type": "stream",
     "text": [
      "Файл /datasets/hypothesis.csv успешно загружен\n"
     ]
    }
   ],
   "source": [
    "# прочитаем файл \n",
    "pth1 = 'hypothesis.csv'\n",
    "pth2 = '/datasets/hypothesis.csv'\n",
    "\n",
    "\n",
    "if os.path.exists(pth1):\n",
    "    try: \n",
    "        hyp = pd.read_csv(pth1)\n",
    "        print(f'Файл {pth1} успешно загружен')\n",
    "    except:\n",
    "        pass\n",
    "elif os.path.exists(pth2):\n",
    "    try: \n",
    "        hyp = pd.read_csv(pth2)\n",
    "        print(f'Файл {pth2} успешно загружен')\n",
    "    except:\n",
    "        pass\n",
    "else:\n",
    "    print('Что-то пошло не так. Проверьте код')"
   ]
  },
  {
   "cell_type": "code",
   "execution_count": 3,
   "id": "2039c71a-4712-4d94-b3ef-ff992a64baa9",
   "metadata": {},
   "outputs": [
    {
     "data": {
      "text/html": [
       "<div>\n",
       "<style scoped>\n",
       "    .dataframe tbody tr th:only-of-type {\n",
       "        vertical-align: middle;\n",
       "    }\n",
       "\n",
       "    .dataframe tbody tr th {\n",
       "        vertical-align: top;\n",
       "    }\n",
       "\n",
       "    .dataframe thead th {\n",
       "        text-align: right;\n",
       "    }\n",
       "</style>\n",
       "<table border=\"1\" class=\"dataframe\">\n",
       "  <thead>\n",
       "    <tr style=\"text-align: right;\">\n",
       "      <th></th>\n",
       "      <th>Hypothesis</th>\n",
       "      <th>Reach</th>\n",
       "      <th>Impact</th>\n",
       "      <th>Confidence</th>\n",
       "      <th>Efforts</th>\n",
       "    </tr>\n",
       "  </thead>\n",
       "  <tbody>\n",
       "    <tr>\n",
       "      <th>0</th>\n",
       "      <td>Добавить два новых канала привлечения трафика, что позволит привлекать на 30% больше пользователей</td>\n",
       "      <td>3</td>\n",
       "      <td>10</td>\n",
       "      <td>8</td>\n",
       "      <td>6</td>\n",
       "    </tr>\n",
       "    <tr>\n",
       "      <th>1</th>\n",
       "      <td>Запустить собственную службу доставки, что сократит срок доставки заказов</td>\n",
       "      <td>2</td>\n",
       "      <td>5</td>\n",
       "      <td>4</td>\n",
       "      <td>10</td>\n",
       "    </tr>\n",
       "    <tr>\n",
       "      <th>2</th>\n",
       "      <td>Добавить блоки рекомендаций товаров на сайт интернет магазина, чтобы повысить конверсию и средний чек заказа</td>\n",
       "      <td>8</td>\n",
       "      <td>3</td>\n",
       "      <td>7</td>\n",
       "      <td>3</td>\n",
       "    </tr>\n",
       "    <tr>\n",
       "      <th>3</th>\n",
       "      <td>Изменить структура категорий, что увеличит конверсию, т.к. пользователи быстрее найдут нужный товар</td>\n",
       "      <td>8</td>\n",
       "      <td>3</td>\n",
       "      <td>3</td>\n",
       "      <td>8</td>\n",
       "    </tr>\n",
       "    <tr>\n",
       "      <th>4</th>\n",
       "      <td>Изменить цвет фона главной страницы, чтобы увеличить вовлеченность пользователей</td>\n",
       "      <td>3</td>\n",
       "      <td>1</td>\n",
       "      <td>1</td>\n",
       "      <td>1</td>\n",
       "    </tr>\n",
       "    <tr>\n",
       "      <th>5</th>\n",
       "      <td>Добавить страницу отзывов клиентов о магазине, что позволит увеличить количество заказов</td>\n",
       "      <td>3</td>\n",
       "      <td>2</td>\n",
       "      <td>2</td>\n",
       "      <td>3</td>\n",
       "    </tr>\n",
       "    <tr>\n",
       "      <th>6</th>\n",
       "      <td>Показать на главной странице баннеры с актуальными акциями и распродажами, чтобы увеличить конверсию</td>\n",
       "      <td>5</td>\n",
       "      <td>3</td>\n",
       "      <td>8</td>\n",
       "      <td>3</td>\n",
       "    </tr>\n",
       "    <tr>\n",
       "      <th>7</th>\n",
       "      <td>Добавить форму подписки на все основные страницы, чтобы собрать базу клиентов для email-рассылок</td>\n",
       "      <td>10</td>\n",
       "      <td>7</td>\n",
       "      <td>8</td>\n",
       "      <td>5</td>\n",
       "    </tr>\n",
       "    <tr>\n",
       "      <th>8</th>\n",
       "      <td>Запустить акцию, дающую скидку на товар в день рождения</td>\n",
       "      <td>1</td>\n",
       "      <td>9</td>\n",
       "      <td>9</td>\n",
       "      <td>5</td>\n",
       "    </tr>\n",
       "  </tbody>\n",
       "</table>\n",
       "</div>"
      ],
      "text/plain": [
       "                                                                                                     Hypothesis  \\\n",
       "0            Добавить два новых канала привлечения трафика, что позволит привлекать на 30% больше пользователей   \n",
       "1                                     Запустить собственную службу доставки, что сократит срок доставки заказов   \n",
       "2  Добавить блоки рекомендаций товаров на сайт интернет магазина, чтобы повысить конверсию и средний чек заказа   \n",
       "3           Изменить структура категорий, что увеличит конверсию, т.к. пользователи быстрее найдут нужный товар   \n",
       "4                              Изменить цвет фона главной страницы, чтобы увеличить вовлеченность пользователей   \n",
       "5                      Добавить страницу отзывов клиентов о магазине, что позволит увеличить количество заказов   \n",
       "6          Показать на главной странице баннеры с актуальными акциями и распродажами, чтобы увеличить конверсию   \n",
       "7              Добавить форму подписки на все основные страницы, чтобы собрать базу клиентов для email-рассылок   \n",
       "8                                                       Запустить акцию, дающую скидку на товар в день рождения   \n",
       "\n",
       "   Reach  Impact  Confidence  Efforts  \n",
       "0      3      10           8        6  \n",
       "1      2       5           4       10  \n",
       "2      8       3           7        3  \n",
       "3      8       3           3        8  \n",
       "4      3       1           1        1  \n",
       "5      3       2           2        3  \n",
       "6      5       3           8        3  \n",
       "7     10       7           8        5  \n",
       "8      1       9           9        5  "
      ]
     },
     "execution_count": 3,
     "metadata": {},
     "output_type": "execute_result"
    }
   ],
   "source": [
    "hyp"
   ]
  },
  {
   "cell_type": "markdown",
   "id": "be15f425-32af-44bc-a6db-9ae99af2e74f",
   "metadata": {},
   "source": [
    "**Рассчитаем ICE для каждой гипотезы**"
   ]
  },
  {
   "cell_type": "code",
   "execution_count": 4,
   "id": "79756a31-b4fd-49c3-b00b-619de61c41ff",
   "metadata": {},
   "outputs": [
    {
     "data": {
      "text/html": [
       "<div>\n",
       "<style scoped>\n",
       "    .dataframe tbody tr th:only-of-type {\n",
       "        vertical-align: middle;\n",
       "    }\n",
       "\n",
       "    .dataframe tbody tr th {\n",
       "        vertical-align: top;\n",
       "    }\n",
       "\n",
       "    .dataframe thead th {\n",
       "        text-align: right;\n",
       "    }\n",
       "</style>\n",
       "<table border=\"1\" class=\"dataframe\">\n",
       "  <thead>\n",
       "    <tr style=\"text-align: right;\">\n",
       "      <th></th>\n",
       "      <th>Hypothesis</th>\n",
       "      <th>Reach</th>\n",
       "      <th>Impact</th>\n",
       "      <th>Confidence</th>\n",
       "      <th>Efforts</th>\n",
       "      <th>ICE</th>\n",
       "    </tr>\n",
       "  </thead>\n",
       "  <tbody>\n",
       "    <tr>\n",
       "      <th>8</th>\n",
       "      <td>Запустить акцию, дающую скидку на товар в день рождения</td>\n",
       "      <td>1</td>\n",
       "      <td>9</td>\n",
       "      <td>9</td>\n",
       "      <td>5</td>\n",
       "      <td>16.20</td>\n",
       "    </tr>\n",
       "    <tr>\n",
       "      <th>0</th>\n",
       "      <td>Добавить два новых канала привлечения трафика, что позволит привлекать на 30% больше пользователей</td>\n",
       "      <td>3</td>\n",
       "      <td>10</td>\n",
       "      <td>8</td>\n",
       "      <td>6</td>\n",
       "      <td>13.33</td>\n",
       "    </tr>\n",
       "    <tr>\n",
       "      <th>7</th>\n",
       "      <td>Добавить форму подписки на все основные страницы, чтобы собрать базу клиентов для email-рассылок</td>\n",
       "      <td>10</td>\n",
       "      <td>7</td>\n",
       "      <td>8</td>\n",
       "      <td>5</td>\n",
       "      <td>11.20</td>\n",
       "    </tr>\n",
       "    <tr>\n",
       "      <th>6</th>\n",
       "      <td>Показать на главной странице баннеры с актуальными акциями и распродажами, чтобы увеличить конверсию</td>\n",
       "      <td>5</td>\n",
       "      <td>3</td>\n",
       "      <td>8</td>\n",
       "      <td>3</td>\n",
       "      <td>8.00</td>\n",
       "    </tr>\n",
       "    <tr>\n",
       "      <th>2</th>\n",
       "      <td>Добавить блоки рекомендаций товаров на сайт интернет магазина, чтобы повысить конверсию и средний чек заказа</td>\n",
       "      <td>8</td>\n",
       "      <td>3</td>\n",
       "      <td>7</td>\n",
       "      <td>3</td>\n",
       "      <td>7.00</td>\n",
       "    </tr>\n",
       "    <tr>\n",
       "      <th>1</th>\n",
       "      <td>Запустить собственную службу доставки, что сократит срок доставки заказов</td>\n",
       "      <td>2</td>\n",
       "      <td>5</td>\n",
       "      <td>4</td>\n",
       "      <td>10</td>\n",
       "      <td>2.00</td>\n",
       "    </tr>\n",
       "    <tr>\n",
       "      <th>5</th>\n",
       "      <td>Добавить страницу отзывов клиентов о магазине, что позволит увеличить количество заказов</td>\n",
       "      <td>3</td>\n",
       "      <td>2</td>\n",
       "      <td>2</td>\n",
       "      <td>3</td>\n",
       "      <td>1.33</td>\n",
       "    </tr>\n",
       "    <tr>\n",
       "      <th>3</th>\n",
       "      <td>Изменить структура категорий, что увеличит конверсию, т.к. пользователи быстрее найдут нужный товар</td>\n",
       "      <td>8</td>\n",
       "      <td>3</td>\n",
       "      <td>3</td>\n",
       "      <td>8</td>\n",
       "      <td>1.12</td>\n",
       "    </tr>\n",
       "    <tr>\n",
       "      <th>4</th>\n",
       "      <td>Изменить цвет фона главной страницы, чтобы увеличить вовлеченность пользователей</td>\n",
       "      <td>3</td>\n",
       "      <td>1</td>\n",
       "      <td>1</td>\n",
       "      <td>1</td>\n",
       "      <td>1.00</td>\n",
       "    </tr>\n",
       "  </tbody>\n",
       "</table>\n",
       "</div>"
      ],
      "text/plain": [
       "                                                                                                     Hypothesis  \\\n",
       "8                                                       Запустить акцию, дающую скидку на товар в день рождения   \n",
       "0            Добавить два новых канала привлечения трафика, что позволит привлекать на 30% больше пользователей   \n",
       "7              Добавить форму подписки на все основные страницы, чтобы собрать базу клиентов для email-рассылок   \n",
       "6          Показать на главной странице баннеры с актуальными акциями и распродажами, чтобы увеличить конверсию   \n",
       "2  Добавить блоки рекомендаций товаров на сайт интернет магазина, чтобы повысить конверсию и средний чек заказа   \n",
       "1                                     Запустить собственную службу доставки, что сократит срок доставки заказов   \n",
       "5                      Добавить страницу отзывов клиентов о магазине, что позволит увеличить количество заказов   \n",
       "3           Изменить структура категорий, что увеличит конверсию, т.к. пользователи быстрее найдут нужный товар   \n",
       "4                              Изменить цвет фона главной страницы, чтобы увеличить вовлеченность пользователей   \n",
       "\n",
       "   Reach  Impact  Confidence  Efforts   ICE  \n",
       "8      1       9           9        5 16.20  \n",
       "0      3      10           8        6 13.33  \n",
       "7     10       7           8        5 11.20  \n",
       "6      5       3           8        3  8.00  \n",
       "2      8       3           7        3  7.00  \n",
       "1      2       5           4       10  2.00  \n",
       "5      3       2           2        3  1.33  \n",
       "3      8       3           3        8  1.12  \n",
       "4      3       1           1        1  1.00  "
      ]
     },
     "execution_count": 4,
     "metadata": {},
     "output_type": "execute_result"
    }
   ],
   "source": [
    "hyp['ICE']= hyp['Impact']* hyp['Confidence'] / hyp['Efforts']\n",
    "hyp.sort_values('ICE', ascending= False)"
   ]
  },
  {
   "cell_type": "code",
   "execution_count": 5,
   "id": "a21d2a82-e47a-4699-84e4-4d555b19fc08",
   "metadata": {},
   "outputs": [
    {
     "data": {
      "text/html": [
       "<style  type=\"text/css\" >\n",
       "#T_5ec65_row0_col5{\n",
       "            background-color:  #f7b79b;\n",
       "            color:  #000000;\n",
       "        }#T_5ec65_row0_col6,#T_5ec65_row4_col5{\n",
       "            background-color:  #b40426;\n",
       "            color:  #f1f1f1;\n",
       "        }#T_5ec65_row1_col5{\n",
       "            background-color:  #bfd3f6;\n",
       "            color:  #000000;\n",
       "        }#T_5ec65_row1_col6{\n",
       "            background-color:  #d9dce1;\n",
       "            color:  #000000;\n",
       "        }#T_5ec65_row2_col5{\n",
       "            background-color:  #ec7f63;\n",
       "            color:  #000000;\n",
       "        }#T_5ec65_row2_col6,#T_5ec65_row3_col6{\n",
       "            background-color:  #abc8fd;\n",
       "            color:  #000000;\n",
       "        }#T_5ec65_row3_col5{\n",
       "            background-color:  #d2dbe8;\n",
       "            color:  #000000;\n",
       "        }#T_5ec65_row4_col6{\n",
       "            background-color:  #6180e9;\n",
       "            color:  #000000;\n",
       "        }#T_5ec65_row5_col5,#T_5ec65_row6_col6,#T_5ec65_row7_col6{\n",
       "            background-color:  #3d50c3;\n",
       "            color:  #f1f1f1;\n",
       "        }#T_5ec65_row5_col6{\n",
       "            background-color:  #4b64d5;\n",
       "            color:  #f1f1f1;\n",
       "        }#T_5ec65_row6_col5{\n",
       "            background-color:  #4e68d8;\n",
       "            color:  #000000;\n",
       "        }#T_5ec65_row7_col5{\n",
       "            background-color:  #4055c8;\n",
       "            color:  #f1f1f1;\n",
       "        }#T_5ec65_row8_col5,#T_5ec65_row8_col6{\n",
       "            background-color:  #3b4cc0;\n",
       "            color:  #f1f1f1;\n",
       "        }</style><table id=\"T_5ec65_\" ><thead>    <tr>        <th class=\"blank level0\" ></th>        <th class=\"col_heading level0 col0\" >Hypothesis</th>        <th class=\"col_heading level0 col1\" >Reach</th>        <th class=\"col_heading level0 col2\" >Impact</th>        <th class=\"col_heading level0 col3\" >Confidence</th>        <th class=\"col_heading level0 col4\" >Efforts</th>        <th class=\"col_heading level0 col5\" >ICE</th>        <th class=\"col_heading level0 col6\" >RICE</th>    </tr></thead><tbody>\n",
       "                <tr>\n",
       "                        <th id=\"T_5ec65_level0_row0\" class=\"row_heading level0 row0\" >7</th>\n",
       "                        <td id=\"T_5ec65_row0_col0\" class=\"data row0 col0\" >Добавить форму подписки на все основные страницы, чтобы собрать базу клиентов для email-рассылок</td>\n",
       "                        <td id=\"T_5ec65_row0_col1\" class=\"data row0 col1\" >10</td>\n",
       "                        <td id=\"T_5ec65_row0_col2\" class=\"data row0 col2\" >7</td>\n",
       "                        <td id=\"T_5ec65_row0_col3\" class=\"data row0 col3\" >8</td>\n",
       "                        <td id=\"T_5ec65_row0_col4\" class=\"data row0 col4\" >5</td>\n",
       "                        <td id=\"T_5ec65_row0_col5\" class=\"data row0 col5\" >11.200000</td>\n",
       "                        <td id=\"T_5ec65_row0_col6\" class=\"data row0 col6\" >112.000000</td>\n",
       "            </tr>\n",
       "            <tr>\n",
       "                        <th id=\"T_5ec65_level0_row1\" class=\"row_heading level0 row1\" >2</th>\n",
       "                        <td id=\"T_5ec65_row1_col0\" class=\"data row1 col0\" >Добавить блоки рекомендаций товаров на сайт интернет магазина, чтобы повысить конверсию и средний чек заказа</td>\n",
       "                        <td id=\"T_5ec65_row1_col1\" class=\"data row1 col1\" >8</td>\n",
       "                        <td id=\"T_5ec65_row1_col2\" class=\"data row1 col2\" >3</td>\n",
       "                        <td id=\"T_5ec65_row1_col3\" class=\"data row1 col3\" >7</td>\n",
       "                        <td id=\"T_5ec65_row1_col4\" class=\"data row1 col4\" >3</td>\n",
       "                        <td id=\"T_5ec65_row1_col5\" class=\"data row1 col5\" >7.000000</td>\n",
       "                        <td id=\"T_5ec65_row1_col6\" class=\"data row1 col6\" >56.000000</td>\n",
       "            </tr>\n",
       "            <tr>\n",
       "                        <th id=\"T_5ec65_level0_row2\" class=\"row_heading level0 row2\" >0</th>\n",
       "                        <td id=\"T_5ec65_row2_col0\" class=\"data row2 col0\" >Добавить два новых канала привлечения трафика, что позволит привлекать на 30% больше пользователей</td>\n",
       "                        <td id=\"T_5ec65_row2_col1\" class=\"data row2 col1\" >3</td>\n",
       "                        <td id=\"T_5ec65_row2_col2\" class=\"data row2 col2\" >10</td>\n",
       "                        <td id=\"T_5ec65_row2_col3\" class=\"data row2 col3\" >8</td>\n",
       "                        <td id=\"T_5ec65_row2_col4\" class=\"data row2 col4\" >6</td>\n",
       "                        <td id=\"T_5ec65_row2_col5\" class=\"data row2 col5\" >13.333333</td>\n",
       "                        <td id=\"T_5ec65_row2_col6\" class=\"data row2 col6\" >40.000000</td>\n",
       "            </tr>\n",
       "            <tr>\n",
       "                        <th id=\"T_5ec65_level0_row3\" class=\"row_heading level0 row3\" >6</th>\n",
       "                        <td id=\"T_5ec65_row3_col0\" class=\"data row3 col0\" >Показать на главной странице баннеры с актуальными акциями и распродажами, чтобы увеличить конверсию</td>\n",
       "                        <td id=\"T_5ec65_row3_col1\" class=\"data row3 col1\" >5</td>\n",
       "                        <td id=\"T_5ec65_row3_col2\" class=\"data row3 col2\" >3</td>\n",
       "                        <td id=\"T_5ec65_row3_col3\" class=\"data row3 col3\" >8</td>\n",
       "                        <td id=\"T_5ec65_row3_col4\" class=\"data row3 col4\" >3</td>\n",
       "                        <td id=\"T_5ec65_row3_col5\" class=\"data row3 col5\" >8.000000</td>\n",
       "                        <td id=\"T_5ec65_row3_col6\" class=\"data row3 col6\" >40.000000</td>\n",
       "            </tr>\n",
       "            <tr>\n",
       "                        <th id=\"T_5ec65_level0_row4\" class=\"row_heading level0 row4\" >8</th>\n",
       "                        <td id=\"T_5ec65_row4_col0\" class=\"data row4 col0\" >Запустить акцию, дающую скидку на товар в день рождения</td>\n",
       "                        <td id=\"T_5ec65_row4_col1\" class=\"data row4 col1\" >1</td>\n",
       "                        <td id=\"T_5ec65_row4_col2\" class=\"data row4 col2\" >9</td>\n",
       "                        <td id=\"T_5ec65_row4_col3\" class=\"data row4 col3\" >9</td>\n",
       "                        <td id=\"T_5ec65_row4_col4\" class=\"data row4 col4\" >5</td>\n",
       "                        <td id=\"T_5ec65_row4_col5\" class=\"data row4 col5\" >16.200000</td>\n",
       "                        <td id=\"T_5ec65_row4_col6\" class=\"data row4 col6\" >16.200000</td>\n",
       "            </tr>\n",
       "            <tr>\n",
       "                        <th id=\"T_5ec65_level0_row5\" class=\"row_heading level0 row5\" >3</th>\n",
       "                        <td id=\"T_5ec65_row5_col0\" class=\"data row5 col0\" >Изменить структура категорий, что увеличит конверсию, т.к. пользователи быстрее найдут нужный товар</td>\n",
       "                        <td id=\"T_5ec65_row5_col1\" class=\"data row5 col1\" >8</td>\n",
       "                        <td id=\"T_5ec65_row5_col2\" class=\"data row5 col2\" >3</td>\n",
       "                        <td id=\"T_5ec65_row5_col3\" class=\"data row5 col3\" >3</td>\n",
       "                        <td id=\"T_5ec65_row5_col4\" class=\"data row5 col4\" >8</td>\n",
       "                        <td id=\"T_5ec65_row5_col5\" class=\"data row5 col5\" >1.125000</td>\n",
       "                        <td id=\"T_5ec65_row5_col6\" class=\"data row5 col6\" >9.000000</td>\n",
       "            </tr>\n",
       "            <tr>\n",
       "                        <th id=\"T_5ec65_level0_row6\" class=\"row_heading level0 row6\" >1</th>\n",
       "                        <td id=\"T_5ec65_row6_col0\" class=\"data row6 col0\" >Запустить собственную службу доставки, что сократит срок доставки заказов</td>\n",
       "                        <td id=\"T_5ec65_row6_col1\" class=\"data row6 col1\" >2</td>\n",
       "                        <td id=\"T_5ec65_row6_col2\" class=\"data row6 col2\" >5</td>\n",
       "                        <td id=\"T_5ec65_row6_col3\" class=\"data row6 col3\" >4</td>\n",
       "                        <td id=\"T_5ec65_row6_col4\" class=\"data row6 col4\" >10</td>\n",
       "                        <td id=\"T_5ec65_row6_col5\" class=\"data row6 col5\" >2.000000</td>\n",
       "                        <td id=\"T_5ec65_row6_col6\" class=\"data row6 col6\" >4.000000</td>\n",
       "            </tr>\n",
       "            <tr>\n",
       "                        <th id=\"T_5ec65_level0_row7\" class=\"row_heading level0 row7\" >5</th>\n",
       "                        <td id=\"T_5ec65_row7_col0\" class=\"data row7 col0\" >Добавить страницу отзывов клиентов о магазине, что позволит увеличить количество заказов</td>\n",
       "                        <td id=\"T_5ec65_row7_col1\" class=\"data row7 col1\" >3</td>\n",
       "                        <td id=\"T_5ec65_row7_col2\" class=\"data row7 col2\" >2</td>\n",
       "                        <td id=\"T_5ec65_row7_col3\" class=\"data row7 col3\" >2</td>\n",
       "                        <td id=\"T_5ec65_row7_col4\" class=\"data row7 col4\" >3</td>\n",
       "                        <td id=\"T_5ec65_row7_col5\" class=\"data row7 col5\" >1.333333</td>\n",
       "                        <td id=\"T_5ec65_row7_col6\" class=\"data row7 col6\" >4.000000</td>\n",
       "            </tr>\n",
       "            <tr>\n",
       "                        <th id=\"T_5ec65_level0_row8\" class=\"row_heading level0 row8\" >4</th>\n",
       "                        <td id=\"T_5ec65_row8_col0\" class=\"data row8 col0\" >Изменить цвет фона главной страницы, чтобы увеличить вовлеченность пользователей</td>\n",
       "                        <td id=\"T_5ec65_row8_col1\" class=\"data row8 col1\" >3</td>\n",
       "                        <td id=\"T_5ec65_row8_col2\" class=\"data row8 col2\" >1</td>\n",
       "                        <td id=\"T_5ec65_row8_col3\" class=\"data row8 col3\" >1</td>\n",
       "                        <td id=\"T_5ec65_row8_col4\" class=\"data row8 col4\" >1</td>\n",
       "                        <td id=\"T_5ec65_row8_col5\" class=\"data row8 col5\" >1.000000</td>\n",
       "                        <td id=\"T_5ec65_row8_col6\" class=\"data row8 col6\" >3.000000</td>\n",
       "            </tr>\n",
       "    </tbody></table>"
      ],
      "text/plain": [
       "<pandas.io.formats.style.Styler at 0x7fc028714c10>"
      ]
     },
     "execution_count": 5,
     "metadata": {},
     "output_type": "execute_result"
    }
   ],
   "source": [
    "hyp['RICE']= hyp['Reach']*hyp['Impact']* hyp['Confidence'] / hyp['Efforts']\n",
    "hyp=hyp.sort_values('RICE', ascending= False)\n",
    "hyp_styled2 = hyp.style.background_gradient(subset=['ICE','RICE'], cmap=\"coolwarm\")\n",
    "hyp_styled2"
   ]
  },
  {
   "cell_type": "code",
   "execution_count": 6,
   "id": "0ca156c3",
   "metadata": {},
   "outputs": [
    {
     "data": {
      "image/png": "[encoded data removed]",
      "text/plain": [
       "<Figure size 288x432 with 1 Axes>"
      ]
     },
     "metadata": {
      "needs_background": "light"
     },
     "output_type": "display_data"
    }
   ],
   "source": [
    "# Ранжирование гипотез по метрикам\n",
    "hyp[\"Rank_ICE\"] = hyp[\"ICE\"].rank()#ascending=False)\n",
    "hyp[\"Rank_RICE\"] = hyp[\"RICE\"].rank()#ascending=False)\n",
    "\n",
    "# Подготовка данных для графика\n",
    "df_melted = hyp.melt(id_vars=[\"Hypothesis\"], value_vars=[\"Rank_ICE\", \"Rank_RICE\"], \n",
    "                     var_name=\"Stage\", value_name=\"Rank\")\n",
    "df_melted[\"Stage\"] = df_melted[\"Stage\"].map({\"Rank_ICE\": \"ICE\", \"Rank_RICE\": \"RICE\"})\n",
    "\n",
    "# Визуализация Slope Graph\n",
    "fig, ax = plt.subplots(figsize=(4, 6))\n",
    "\n",
    "# Построение линий для каждой гипотезы\n",
    "for hyp_name in hyp[\"Hypothesis\"]:\n",
    "    data = df_melted[df_melted[\"Hypothesis\"] == hyp_name]\n",
    "    ax.plot(data[\"Stage\"], data[\"Rank\"], marker=\"o\", label=hyp_name, alpha=0.7)\n",
    "\n",
    "# Настройки графика\n",
    "ax.set_title(\"Изменение приоритетов гипотез: ICE vs RICE \\n\")\n",
    "ax.set_xlabel(\"Фреймворк для оценки\")\n",
    "ax.set_ylabel(\"Приоритетность\")\n",
    "ax.set_xticks([\"ICE\", \"RICE\"])\n",
    "ax.grid(True, linestyle=\"--\", alpha=0.5)\n",
    "plt.legend(title=\"Гипотеза\", bbox_to_anchor=(1.05, 1), loc=\"upper left\", fontsize=10)\n",
    "\n",
    "plt.show()"
   ]
  },
  {
   "cell_type": "markdown",
   "id": "79891b98-994b-4ed0-a6b1-ca02101d5be2",
   "metadata": {},
   "source": [
    "### Итог:"
   ]
  },
  {
   "cell_type": "markdown",
   "id": "98423a10-dc45-4894-a0d9-6130625c6c5d",
   "metadata": {},
   "source": [
    "После анализа в фрейворке ICE наиболее перспективными являются гипотезы: \n",
    "1. Запустить акцию, дающую скидку на товар в день рождения\n",
    "2. Добавить два новых канала привлечения трафика, что позволит привлекать на 30% больше пользователей\n",
    "3. Добавить форму подписки на все основные страницы, чтобы собрать базу клиентов для email-рассылок\n",
    "\n",
    "Однако после добавления в качестве критерия приоритезирования количества клиентов, на которых повлияет изменение, на первые места по совокупности факторов выходят:\n",
    "1. Добавить форму подписки на все основные страницы, чтобы собрать базу клиентов для email-рассылок\n",
    "2. Добавить блоки рекомендаций товаров на сайт интернет магазина, чтобы повысить конверсию и средний чек заказа\n",
    "3. Добавить два новых канала привлечения трафика, что позволит привлекать на 30% больше пользователей/\n",
    "\n",
    "Рекомендуем в первую очередь брать в проработку топ гипотез, оцененных по методике RICE, т.к. они затрагивают большее количество пользователей, а значит потенциально способны принести больший профит компании.\n",
    " "
   ]
  },
  {
   "cell_type": "markdown",
   "id": "b33bd051-1d24-47d9-991d-cc1965a09e38",
   "metadata": {},
   "source": [
    "## Проанализируем результаты A/B теста"
   ]
  },
  {
   "cell_type": "markdown",
   "id": "7fdbb5b8",
   "metadata": {},
   "source": [
    "### Загрузим данные для анализа"
   ]
  },
  {
   "cell_type": "code",
   "execution_count": 7,
   "id": "82d2dfb0-3fdb-402a-b833-759bcc8ab6ba",
   "metadata": {},
   "outputs": [
    {
     "name": "stdout",
     "output_type": "stream",
     "text": [
      "Файл /datasets/orders.csv успешно загружен\n",
      "Файл /datasets/visitors.csv успешно загружен\n"
     ]
    }
   ],
   "source": [
    "# прочитаем файл \n",
    "pth1 = 'orders.csv'\n",
    "pth2 = '/datasets/orders.csv'\n",
    "\n",
    "if os.path.exists(pth1):\n",
    "    try: \n",
    "        orders = pd.read_csv(pth1)\n",
    "        print(f'Файл {pth1} успешно загружен')\n",
    "    except:\n",
    "        pass\n",
    "elif os.path.exists(pth2):\n",
    "    try: \n",
    "        orders = pd.read_csv(pth2)\n",
    "        print(f'Файл {pth2} успешно загружен')\n",
    "    except:\n",
    "        pass\n",
    "else:\n",
    "    print('Что-то пошло не так. Проверьте код')\n",
    "\n",
    "# прочитаем файл \n",
    "pth3 = 'visitors.csv'\n",
    "pth4 = '/datasets/visitors.csv'\n",
    "\n",
    "\n",
    "if os.path.exists(pth3):\n",
    "    try: \n",
    "        visitors = pd.read_csv(pth3)\n",
    "        print(f'Файл {pth3} успешно загружен')\n",
    "    except:\n",
    "        pass\n",
    "elif os.path.exists(pth4):\n",
    "    try: \n",
    "        visitors = pd.read_csv(pth4)\n",
    "        print(f'Файл {pth4} успешно загружен')\n",
    "    except:\n",
    "        pass\n",
    "else:\n",
    "    print('Что-то пошло не так. Проверьте код')"
   ]
  },
  {
   "cell_type": "markdown",
   "id": "07aa9049-c5dd-4bf8-9552-e63b4244c0d5",
   "metadata": {},
   "source": [
    "**orders**"
   ]
  },
  {
   "cell_type": "code",
   "execution_count": 8,
   "id": "c35c9f33-68dc-4256-823a-a91d128622da",
   "metadata": {},
   "outputs": [
    {
     "data": {
      "text/html": [
       "<div>\n",
       "<style scoped>\n",
       "    .dataframe tbody tr th:only-of-type {\n",
       "        vertical-align: middle;\n",
       "    }\n",
       "\n",
       "    .dataframe tbody tr th {\n",
       "        vertical-align: top;\n",
       "    }\n",
       "\n",
       "    .dataframe thead th {\n",
       "        text-align: right;\n",
       "    }\n",
       "</style>\n",
       "<table border=\"1\" class=\"dataframe\">\n",
       "  <thead>\n",
       "    <tr style=\"text-align: right;\">\n",
       "      <th></th>\n",
       "      <th>transactionId</th>\n",
       "      <th>visitorId</th>\n",
       "      <th>date</th>\n",
       "      <th>revenue</th>\n",
       "      <th>group</th>\n",
       "    </tr>\n",
       "  </thead>\n",
       "  <tbody>\n",
       "    <tr>\n",
       "      <th>0</th>\n",
       "      <td>3667963787</td>\n",
       "      <td>3312258926</td>\n",
       "      <td>2019-08-15</td>\n",
       "      <td>1650</td>\n",
       "      <td>B</td>\n",
       "    </tr>\n",
       "    <tr>\n",
       "      <th>1</th>\n",
       "      <td>2804400009</td>\n",
       "      <td>3642806036</td>\n",
       "      <td>2019-08-15</td>\n",
       "      <td>730</td>\n",
       "      <td>B</td>\n",
       "    </tr>\n",
       "    <tr>\n",
       "      <th>2</th>\n",
       "      <td>2961555356</td>\n",
       "      <td>4069496402</td>\n",
       "      <td>2019-08-15</td>\n",
       "      <td>400</td>\n",
       "      <td>A</td>\n",
       "    </tr>\n",
       "  </tbody>\n",
       "</table>\n",
       "</div>"
      ],
      "text/plain": [
       "   transactionId   visitorId        date  revenue group\n",
       "0     3667963787  3312258926  2019-08-15     1650     B\n",
       "1     2804400009  3642806036  2019-08-15      730     B\n",
       "2     2961555356  4069496402  2019-08-15      400     A"
      ]
     },
     "execution_count": 8,
     "metadata": {},
     "output_type": "execute_result"
    }
   ],
   "source": [
    "orders.head(3)"
   ]
  },
  {
   "cell_type": "code",
   "execution_count": 9,
   "id": "dcd8f4fe-1cd7-403d-97de-92d7a7def6fd",
   "metadata": {},
   "outputs": [
    {
     "name": "stdout",
     "output_type": "stream",
     "text": [
      "<class 'pandas.core.frame.DataFrame'>\n",
      "RangeIndex: 1197 entries, 0 to 1196\n",
      "Data columns (total 5 columns):\n",
      " #   Column         Non-Null Count  Dtype \n",
      "---  ------         --------------  ----- \n",
      " 0   transactionId  1197 non-null   int64 \n",
      " 1   visitorId      1197 non-null   int64 \n",
      " 2   date           1197 non-null   object\n",
      " 3   revenue        1197 non-null   int64 \n",
      " 4   group          1197 non-null   object\n",
      "dtypes: int64(3), object(2)\n",
      "memory usage: 46.9+ KB\n"
     ]
    }
   ],
   "source": [
    "orders.info()"
   ]
  },
  {
   "cell_type": "code",
   "execution_count": 10,
   "id": "88f0e407-5ffb-4467-becb-3c0ad16cd86b",
   "metadata": {},
   "outputs": [
    {
     "data": {
      "text/plain": [
       "dtype('<M8[ns]')"
      ]
     },
     "execution_count": 10,
     "metadata": {},
     "output_type": "execute_result"
    }
   ],
   "source": [
    "# приведем значения в столбце date к типу datetime\n",
    "orders['date'] = orders['date'].map(lambda x: dt.datetime.strptime(x, '%Y-%m-%d'))\n",
    "orders['date'].dtype"
   ]
  },
  {
   "cell_type": "code",
   "execution_count": 11,
   "id": "162fc0c7-7015-4f0e-8e86-ff8b278203f8",
   "metadata": {},
   "outputs": [
    {
     "name": "stdout",
     "output_type": "stream",
     "text": [
      "тест проводился с 2019-08-01 00:00:00 по 2019-08-31 00:00:00\n"
     ]
    }
   ],
   "source": [
    "# определим границы теста\n",
    "print(f\"тест проводился с {orders['date'].min()} по {orders['date'].max()}\")"
   ]
  },
  {
   "cell_type": "code",
   "execution_count": 12,
   "id": "d4243455-33da-4698-91f0-cc70bb0730c2",
   "metadata": {},
   "outputs": [
    {
     "data": {
      "text/plain": [
       "0"
      ]
     },
     "execution_count": 12,
     "metadata": {},
     "output_type": "execute_result"
    }
   ],
   "source": [
    "# проверим датафрейм на наличие дубликатов\n",
    "orders.duplicated().sum()"
   ]
  },
  {
   "cell_type": "code",
   "execution_count": 13,
   "id": "d83eefe4-9215-4f12-985a-1cbddbccc457",
   "metadata": {},
   "outputs": [
    {
     "data": {
      "text/plain": [
       "58"
      ]
     },
     "execution_count": 13,
     "metadata": {},
     "output_type": "execute_result"
    }
   ],
   "source": [
    "# проверим корректность распределения пользователей по группам\n",
    "q=orders.groupby('visitorId')['group'].nunique().sort_values().reset_index()\n",
    "double = q.loc[q['group'] == 2]\n",
    "len(double)"
   ]
  },
  {
   "cell_type": "markdown",
   "id": "91283aac-4dac-4384-a3f4-736897242351",
   "metadata": {},
   "source": [
    "Мы видим, что 58 пользователей вошло в обе тестовые группы. Не ясны причины такой ситуации, так же не понятно насколько это \"точечная проблема\". Потенцально, такие данные могут говорить о неверно проведенном эксперименте и ставят под вопрос результаты всего тестирования.\n",
    "\n",
    "В рамках данного исследования удалим из датасета пользователей, вошедших в обе тестовые группы. Однако при анализе результатов тестирования, стоит помнить, что проведенное А/В тестирование может оказаться полностью невалидным."
   ]
  },
  {
   "cell_type": "code",
   "execution_count": 14,
   "id": "67efc417-abf5-4853-bb36-d647ba958479",
   "metadata": {},
   "outputs": [
    {
     "data": {
      "text/plain": [
       "181"
      ]
     },
     "execution_count": 14,
     "metadata": {},
     "output_type": "execute_result"
    }
   ],
   "source": [
    "double_list = double['visitorId'].to_list()\n",
    "# выведем количество записей для \"дублирующихся\" пользователей\n",
    "len(orders.loc[ orders['visitorId'].isin(double_list)])"
   ]
  },
  {
   "cell_type": "code",
   "execution_count": 15,
   "id": "421fc36c-0377-4454-ac54-608c9964bbc8",
   "metadata": {},
   "outputs": [
    {
     "data": {
      "text/plain": [
       "1016"
      ]
     },
     "execution_count": 15,
     "metadata": {},
     "output_type": "execute_result"
    }
   ],
   "source": [
    "orders = orders.loc[~ orders['visitorId'].isin(double_list)]\n",
    "len(orders)"
   ]
  },
  {
   "cell_type": "markdown",
   "id": "02f01891-2233-4207-960e-98d4f1eeaccd",
   "metadata": {},
   "source": [
    "**visitors**"
   ]
  },
  {
   "cell_type": "code",
   "execution_count": 16,
   "id": "23c2dd51-d99b-4aac-95af-81e63e92c07d",
   "metadata": {},
   "outputs": [
    {
     "data": {
      "text/html": [
       "<div>\n",
       "<style scoped>\n",
       "    .dataframe tbody tr th:only-of-type {\n",
       "        vertical-align: middle;\n",
       "    }\n",
       "\n",
       "    .dataframe tbody tr th {\n",
       "        vertical-align: top;\n",
       "    }\n",
       "\n",
       "    .dataframe thead th {\n",
       "        text-align: right;\n",
       "    }\n",
       "</style>\n",
       "<table border=\"1\" class=\"dataframe\">\n",
       "  <thead>\n",
       "    <tr style=\"text-align: right;\">\n",
       "      <th></th>\n",
       "      <th>date</th>\n",
       "      <th>group</th>\n",
       "      <th>visitors</th>\n",
       "    </tr>\n",
       "  </thead>\n",
       "  <tbody>\n",
       "    <tr>\n",
       "      <th>0</th>\n",
       "      <td>2019-08-01</td>\n",
       "      <td>A</td>\n",
       "      <td>719</td>\n",
       "    </tr>\n",
       "    <tr>\n",
       "      <th>1</th>\n",
       "      <td>2019-08-02</td>\n",
       "      <td>A</td>\n",
       "      <td>619</td>\n",
       "    </tr>\n",
       "    <tr>\n",
       "      <th>2</th>\n",
       "      <td>2019-08-03</td>\n",
       "      <td>A</td>\n",
       "      <td>507</td>\n",
       "    </tr>\n",
       "  </tbody>\n",
       "</table>\n",
       "</div>"
      ],
      "text/plain": [
       "         date group  visitors\n",
       "0  2019-08-01     A       719\n",
       "1  2019-08-02     A       619\n",
       "2  2019-08-03     A       507"
      ]
     },
     "execution_count": 16,
     "metadata": {},
     "output_type": "execute_result"
    }
   ],
   "source": [
    "visitors.head(3)"
   ]
  },
  {
   "cell_type": "code",
   "execution_count": 17,
   "id": "31bd98e5-68a0-4741-90a0-8e77b2033b38",
   "metadata": {},
   "outputs": [
    {
     "name": "stdout",
     "output_type": "stream",
     "text": [
      "<class 'pandas.core.frame.DataFrame'>\n",
      "RangeIndex: 62 entries, 0 to 61\n",
      "Data columns (total 3 columns):\n",
      " #   Column    Non-Null Count  Dtype \n",
      "---  ------    --------------  ----- \n",
      " 0   date      62 non-null     object\n",
      " 1   group     62 non-null     object\n",
      " 2   visitors  62 non-null     int64 \n",
      "dtypes: int64(1), object(2)\n",
      "memory usage: 1.6+ KB\n"
     ]
    }
   ],
   "source": [
    "visitors.info()"
   ]
  },
  {
   "cell_type": "code",
   "execution_count": 18,
   "id": "cb5292fb-c944-42b6-a168-99100c56162d",
   "metadata": {},
   "outputs": [
    {
     "data": {
      "text/plain": [
       "0"
      ]
     },
     "execution_count": 18,
     "metadata": {},
     "output_type": "execute_result"
    }
   ],
   "source": [
    "# проверимдатасет на наличие дубликатов\n",
    "visitors.duplicated().sum()"
   ]
  },
  {
   "cell_type": "code",
   "execution_count": 19,
   "id": "319b305a-9737-412b-ab76-0dc7f8e3f668",
   "metadata": {},
   "outputs": [
    {
     "data": {
      "text/plain": [
       "dtype('<M8[ns]')"
      ]
     },
     "execution_count": 19,
     "metadata": {},
     "output_type": "execute_result"
    }
   ],
   "source": [
    "# приведем значения в столбце date к типу datetime\n",
    "visitors['date'] = visitors['date'].map(lambda x: dt.datetime.strptime(x, '%Y-%m-%d'))\n",
    "visitors['date'].dtype"
   ]
  },
  {
   "cell_type": "code",
   "execution_count": 20,
   "id": "0ef707a1-c35a-43e2-9363-26f757b02d51",
   "metadata": {},
   "outputs": [
    {
     "name": "stdout",
     "output_type": "stream",
     "text": [
      "тест проводился с 2019-08-01 00:00:00 по 2019-08-31 00:00:00\n"
     ]
    }
   ],
   "source": [
    "# определим границы теста\n",
    "print(f\"тест проводился с {visitors['date'].min()} по {visitors['date'].max()}\")"
   ]
  },
  {
   "cell_type": "code",
   "execution_count": 21,
   "id": "387f0362-5f94-4942-85e1-2aaffb5af3fd",
   "metadata": {},
   "outputs": [
    {
     "data": {
      "text/plain": [
       "array(['A', 'B'], dtype=object)"
      ]
     },
     "execution_count": 21,
     "metadata": {},
     "output_type": "execute_result"
    }
   ],
   "source": [
    "# проанализируем сколько гипотез тестировалось в ходе эксперимента\n",
    "visitors['group'].unique()"
   ]
  },
  {
   "cell_type": "markdown",
   "id": "7128233c-acf8-4963-8e6e-f119aa68618b",
   "metadata": {},
   "source": [
    "Тестировались только две гипотезы, поэтому нет необходимости корректировать уровень статистической значимости."
   ]
  },
  {
   "cell_type": "markdown",
   "id": "139adb73-3f31-4c71-ab2e-45727ffb42c5",
   "metadata": {},
   "source": [
    "**Итог:**\n",
    "1. Тест проводился с 2019-08-01 по 2019-08-31\n",
    "2. Тестировались две гипотезы, т.е. нет необходимости корректировать уровень статистической значимости\n",
    "3. Результаты A/B-теста будем анализировать на данных датасетов orders и visitors.\n",
    "4. На этапе изучения данных обнаружена проблема:  58 пользователей вошло в обе тестовые группы. Не ясны причины такой ситуации, так же не понятно насколько это \"точечная проблема\". Потенцально, такие данные могут говорить о неверно проведенном эксперименте и ставят под вопрос результаты всего тестирования.\n",
    "5. \n",
    "В рамках данного исследования удалим из датасета пользователей, вошедших в обе тестовые группы. Однако при анализе результатов тестирования, стоит помнить, что проведенное А/В тестирование может оказаться полностью невалидным."
   ]
  },
  {
   "cell_type": "markdown",
   "id": "3fa109b7-5cef-4a93-a777-26e1fb32f717",
   "metadata": {},
   "source": [
    "### Подготовим данные для анализа"
   ]
  },
  {
   "cell_type": "code",
   "execution_count": 22,
   "id": "0b4d54be-e089-4bb6-9d0f-9f3eb2ca0c30",
   "metadata": {},
   "outputs": [
    {
     "data": {
      "text/html": [
       "<div>\n",
       "<style scoped>\n",
       "    .dataframe tbody tr th:only-of-type {\n",
       "        vertical-align: middle;\n",
       "    }\n",
       "\n",
       "    .dataframe tbody tr th {\n",
       "        vertical-align: top;\n",
       "    }\n",
       "\n",
       "    .dataframe thead th {\n",
       "        text-align: right;\n",
       "    }\n",
       "</style>\n",
       "<table border=\"1\" class=\"dataframe\">\n",
       "  <thead>\n",
       "    <tr style=\"text-align: right;\">\n",
       "      <th></th>\n",
       "      <th>date</th>\n",
       "      <th>visitorsCummulativeA</th>\n",
       "    </tr>\n",
       "  </thead>\n",
       "  <tbody>\n",
       "    <tr>\n",
       "      <th>0</th>\n",
       "      <td>2019-08-01</td>\n",
       "      <td>719</td>\n",
       "    </tr>\n",
       "    <tr>\n",
       "      <th>1</th>\n",
       "      <td>2019-08-02</td>\n",
       "      <td>1338</td>\n",
       "    </tr>\n",
       "    <tr>\n",
       "      <th>2</th>\n",
       "      <td>2019-08-03</td>\n",
       "      <td>1845</td>\n",
       "    </tr>\n",
       "  </tbody>\n",
       "</table>\n",
       "</div>"
      ],
      "text/plain": [
       "        date  visitorsCummulativeA\n",
       "0 2019-08-01                   719\n",
       "1 2019-08-02                  1338\n",
       "2 2019-08-03                  1845"
      ]
     },
     "execution_count": 22,
     "metadata": {},
     "output_type": "execute_result"
    }
   ],
   "source": [
    "# выведем посетителей в группе А\n",
    "visitorsADaily = visitors[visitors['group'] == 'A'][['date', 'visitors']].sort_values('date')\n",
    "visitorsADaily.columns = ['date', 'visitorsPerDateA']\n",
    "\n",
    "\n",
    "# посчитаем накопительную сумму посетителей за каждый день\n",
    "visitorsACummulative = visitorsADaily.apply(\n",
    "    lambda x: visitorsADaily[visitorsADaily['date'] <= x['date']].agg(\n",
    "        {'date': 'max', 'visitorsPerDateA': 'sum'}\n",
    "    ),\n",
    "    axis=1,\n",
    ")\n",
    "visitorsACummulative.columns = ['date', 'visitorsCummulativeA']\n",
    "visitorsACummulative.head(3)"
   ]
  },
  {
   "cell_type": "code",
   "execution_count": 23,
   "id": "01e34811-5934-4727-bf76-8f1a4398910e",
   "metadata": {},
   "outputs": [
    {
     "data": {
      "text/html": [
       "<div>\n",
       "<style scoped>\n",
       "    .dataframe tbody tr th:only-of-type {\n",
       "        vertical-align: middle;\n",
       "    }\n",
       "\n",
       "    .dataframe tbody tr th {\n",
       "        vertical-align: top;\n",
       "    }\n",
       "\n",
       "    .dataframe thead th {\n",
       "        text-align: right;\n",
       "    }\n",
       "</style>\n",
       "<table border=\"1\" class=\"dataframe\">\n",
       "  <thead>\n",
       "    <tr style=\"text-align: right;\">\n",
       "      <th></th>\n",
       "      <th>date</th>\n",
       "      <th>visitorsCummulativeB</th>\n",
       "    </tr>\n",
       "  </thead>\n",
       "  <tbody>\n",
       "    <tr>\n",
       "      <th>31</th>\n",
       "      <td>2019-08-01</td>\n",
       "      <td>713</td>\n",
       "    </tr>\n",
       "    <tr>\n",
       "      <th>32</th>\n",
       "      <td>2019-08-02</td>\n",
       "      <td>1294</td>\n",
       "    </tr>\n",
       "    <tr>\n",
       "      <th>33</th>\n",
       "      <td>2019-08-03</td>\n",
       "      <td>1803</td>\n",
       "    </tr>\n",
       "  </tbody>\n",
       "</table>\n",
       "</div>"
      ],
      "text/plain": [
       "         date  visitorsCummulativeB\n",
       "31 2019-08-01                   713\n",
       "32 2019-08-02                  1294\n",
       "33 2019-08-03                  1803"
      ]
     },
     "execution_count": 23,
     "metadata": {},
     "output_type": "execute_result"
    }
   ],
   "source": [
    "# выведем посетителей в группе B\n",
    "visitorsBDaily = visitors[visitors['group'] == 'B'][['date', 'visitors']].sort_values('date')\n",
    "visitorsBDaily.columns = ['date', 'visitorsPerDateB']\n",
    "\n",
    "\n",
    "# посчитаем накопительную сумму посетителей за каждый день\n",
    "visitorsBCummulative = visitorsBDaily.apply(\n",
    "    lambda x: visitorsBDaily[visitorsBDaily['date'] <= x['date']].agg(\n",
    "        {'date': 'max', 'visitorsPerDateB': 'sum'}\n",
    "    ),\n",
    "    axis=1,\n",
    ")\n",
    "visitorsBCummulative.columns = ['date', 'visitorsCummulativeB']\n",
    "visitorsBCummulative.head(3)"
   ]
  },
  {
   "cell_type": "code",
   "execution_count": 24,
   "id": "7bf9bbbc-f7f1-4e88-ba7f-de014f41d3e9",
   "metadata": {},
   "outputs": [
    {
     "data": {
      "text/html": [
       "<div>\n",
       "<style scoped>\n",
       "    .dataframe tbody tr th:only-of-type {\n",
       "        vertical-align: middle;\n",
       "    }\n",
       "\n",
       "    .dataframe tbody tr th {\n",
       "        vertical-align: top;\n",
       "    }\n",
       "\n",
       "    .dataframe thead th {\n",
       "        text-align: right;\n",
       "    }\n",
       "</style>\n",
       "<table border=\"1\" class=\"dataframe\">\n",
       "  <thead>\n",
       "    <tr style=\"text-align: right;\">\n",
       "      <th></th>\n",
       "      <th>transactionId</th>\n",
       "      <th>visitorId</th>\n",
       "      <th>date</th>\n",
       "      <th>revenue</th>\n",
       "      <th>group</th>\n",
       "    </tr>\n",
       "  </thead>\n",
       "  <tbody>\n",
       "    <tr>\n",
       "      <th>0</th>\n",
       "      <td>3667963787</td>\n",
       "      <td>3312258926</td>\n",
       "      <td>2019-08-15</td>\n",
       "      <td>1650</td>\n",
       "      <td>B</td>\n",
       "    </tr>\n",
       "    <tr>\n",
       "      <th>1</th>\n",
       "      <td>2804400009</td>\n",
       "      <td>3642806036</td>\n",
       "      <td>2019-08-15</td>\n",
       "      <td>730</td>\n",
       "      <td>B</td>\n",
       "    </tr>\n",
       "    <tr>\n",
       "      <th>3</th>\n",
       "      <td>3797467345</td>\n",
       "      <td>1196621759</td>\n",
       "      <td>2019-08-15</td>\n",
       "      <td>9759</td>\n",
       "      <td>B</td>\n",
       "    </tr>\n",
       "  </tbody>\n",
       "</table>\n",
       "</div>"
      ],
      "text/plain": [
       "   transactionId   visitorId       date  revenue group\n",
       "0     3667963787  3312258926 2019-08-15     1650     B\n",
       "1     2804400009  3642806036 2019-08-15      730     B\n",
       "3     3797467345  1196621759 2019-08-15     9759     B"
      ]
     },
     "execution_count": 24,
     "metadata": {},
     "output_type": "execute_result"
    }
   ],
   "source": [
    "orders.head(3)"
   ]
  },
  {
   "cell_type": "code",
   "execution_count": 25,
   "id": "0a845f60-43d1-4a0b-9d83-962d7c327d6f",
   "metadata": {},
   "outputs": [
    {
     "data": {
      "text/html": [
       "<div>\n",
       "<style scoped>\n",
       "    .dataframe tbody tr th:only-of-type {\n",
       "        vertical-align: middle;\n",
       "    }\n",
       "\n",
       "    .dataframe tbody tr th {\n",
       "        vertical-align: top;\n",
       "    }\n",
       "\n",
       "    .dataframe thead th {\n",
       "        text-align: right;\n",
       "    }\n",
       "</style>\n",
       "<table border=\"1\" class=\"dataframe\">\n",
       "  <thead>\n",
       "    <tr style=\"text-align: right;\">\n",
       "      <th></th>\n",
       "      <th>date</th>\n",
       "      <th>ordersPerDateA</th>\n",
       "      <th>revenuePerDateA</th>\n",
       "    </tr>\n",
       "  </thead>\n",
       "  <tbody>\n",
       "    <tr>\n",
       "      <th>0</th>\n",
       "      <td>2019-08-01</td>\n",
       "      <td>23</td>\n",
       "      <td>142779</td>\n",
       "    </tr>\n",
       "    <tr>\n",
       "      <th>1</th>\n",
       "      <td>2019-08-02</td>\n",
       "      <td>19</td>\n",
       "      <td>91602</td>\n",
       "    </tr>\n",
       "    <tr>\n",
       "      <th>2</th>\n",
       "      <td>2019-08-03</td>\n",
       "      <td>24</td>\n",
       "      <td>112473</td>\n",
       "    </tr>\n",
       "  </tbody>\n",
       "</table>\n",
       "</div>"
      ],
      "text/plain": [
       "        date  ordersPerDateA  revenuePerDateA\n",
       "0 2019-08-01              23           142779\n",
       "1 2019-08-02              19            91602\n",
       "2 2019-08-03              24           112473"
      ]
     },
     "execution_count": 25,
     "metadata": {},
     "output_type": "execute_result"
    }
   ],
   "source": [
    "# выведем выручку по уникальным заказам в тестовой группе за каждый день\n",
    "ordersADaily = (\n",
    "    orders[orders['group'] == 'A'][['date', 'transactionId', 'visitorId', 'revenue']]\n",
    "    .groupby('date', as_index=False)\n",
    "    .agg({'transactionId': pd.Series.nunique, 'revenue': 'sum'})\n",
    ")\n",
    "ordersADaily.columns = ['date', 'ordersPerDateA', 'revenuePerDateA']\n",
    "ordersADaily.head(3)"
   ]
  },
  {
   "cell_type": "code",
   "execution_count": 26,
   "id": "bb061c6a-143d-4751-9ce6-051d873ff8ab",
   "metadata": {},
   "outputs": [
    {
     "data": {
      "text/html": [
       "<div>\n",
       "<style scoped>\n",
       "    .dataframe tbody tr th:only-of-type {\n",
       "        vertical-align: middle;\n",
       "    }\n",
       "\n",
       "    .dataframe tbody tr th {\n",
       "        vertical-align: top;\n",
       "    }\n",
       "\n",
       "    .dataframe thead th {\n",
       "        text-align: right;\n",
       "    }\n",
       "</style>\n",
       "<table border=\"1\" class=\"dataframe\">\n",
       "  <thead>\n",
       "    <tr style=\"text-align: right;\">\n",
       "      <th></th>\n",
       "      <th>date</th>\n",
       "      <th>ordersCummulativeA</th>\n",
       "      <th>revenueCummulativeA</th>\n",
       "    </tr>\n",
       "  </thead>\n",
       "  <tbody>\n",
       "    <tr>\n",
       "      <th>0</th>\n",
       "      <td>2019-08-01</td>\n",
       "      <td>23</td>\n",
       "      <td>142779</td>\n",
       "    </tr>\n",
       "    <tr>\n",
       "      <th>1</th>\n",
       "      <td>2019-08-02</td>\n",
       "      <td>42</td>\n",
       "      <td>234381</td>\n",
       "    </tr>\n",
       "    <tr>\n",
       "      <th>2</th>\n",
       "      <td>2019-08-03</td>\n",
       "      <td>66</td>\n",
       "      <td>346854</td>\n",
       "    </tr>\n",
       "  </tbody>\n",
       "</table>\n",
       "</div>"
      ],
      "text/plain": [
       "        date  ordersCummulativeA  revenueCummulativeA\n",
       "0 2019-08-01                  23               142779\n",
       "1 2019-08-02                  42               234381\n",
       "2 2019-08-03                  66               346854"
      ]
     },
     "execution_count": 26,
     "metadata": {},
     "output_type": "execute_result"
    }
   ],
   "source": [
    "# рассчитаемм кумулятивную выручку  в группе А\n",
    "ordersACummulative = ordersADaily.apply(\n",
    "    lambda x: ordersADaily[ordersADaily['date'] <= x['date']].agg(\n",
    "        {'date': 'max', 'ordersPerDateA': 'sum', 'revenuePerDateA': 'sum'}\n",
    "    ),\n",
    "    axis=1,\n",
    ").sort_values(by=['date'])\n",
    "ordersACummulative.columns = [\n",
    "    'date',\n",
    "    'ordersCummulativeA',\n",
    "    'revenueCummulativeA',\n",
    "]\n",
    "ordersACummulative.head(3)"
   ]
  },
  {
   "cell_type": "code",
   "execution_count": 27,
   "id": "90dbcd4a-cd33-409c-a837-ffb10edc05e2",
   "metadata": {},
   "outputs": [
    {
     "data": {
      "text/html": [
       "<div>\n",
       "<style scoped>\n",
       "    .dataframe tbody tr th:only-of-type {\n",
       "        vertical-align: middle;\n",
       "    }\n",
       "\n",
       "    .dataframe tbody tr th {\n",
       "        vertical-align: top;\n",
       "    }\n",
       "\n",
       "    .dataframe thead th {\n",
       "        text-align: right;\n",
       "    }\n",
       "</style>\n",
       "<table border=\"1\" class=\"dataframe\">\n",
       "  <thead>\n",
       "    <tr style=\"text-align: right;\">\n",
       "      <th></th>\n",
       "      <th>date</th>\n",
       "      <th>ordersPerDateB</th>\n",
       "      <th>revenuePerDateB</th>\n",
       "    </tr>\n",
       "  </thead>\n",
       "  <tbody>\n",
       "    <tr>\n",
       "      <th>0</th>\n",
       "      <td>2019-08-01</td>\n",
       "      <td>17</td>\n",
       "      <td>59758</td>\n",
       "    </tr>\n",
       "    <tr>\n",
       "      <th>1</th>\n",
       "      <td>2019-08-02</td>\n",
       "      <td>23</td>\n",
       "      <td>162043</td>\n",
       "    </tr>\n",
       "    <tr>\n",
       "      <th>2</th>\n",
       "      <td>2019-08-03</td>\n",
       "      <td>14</td>\n",
       "      <td>67049</td>\n",
       "    </tr>\n",
       "  </tbody>\n",
       "</table>\n",
       "</div>"
      ],
      "text/plain": [
       "        date  ordersPerDateB  revenuePerDateB\n",
       "0 2019-08-01              17            59758\n",
       "1 2019-08-02              23           162043\n",
       "2 2019-08-03              14            67049"
      ]
     },
     "execution_count": 27,
     "metadata": {},
     "output_type": "execute_result"
    }
   ],
   "source": [
    "# выведем выручку по уникальным заказам в тестовой группе B за каждый день\n",
    "ordersBDaily = (\n",
    "    orders[orders['group'] == 'B'][['date', 'transactionId', 'visitorId', 'revenue']]\n",
    "    .groupby('date', as_index=False)\n",
    "    .agg({'transactionId': pd.Series.nunique, 'revenue': 'sum'})\n",
    ")\n",
    "ordersBDaily.columns = ['date', 'ordersPerDateB', 'revenuePerDateB']\n",
    "ordersBDaily.head(3)"
   ]
  },
  {
   "cell_type": "code",
   "execution_count": 28,
   "id": "af89edf6-9c44-4c3b-ab68-959768212268",
   "metadata": {},
   "outputs": [
    {
     "data": {
      "text/html": [
       "<div>\n",
       "<style scoped>\n",
       "    .dataframe tbody tr th:only-of-type {\n",
       "        vertical-align: middle;\n",
       "    }\n",
       "\n",
       "    .dataframe tbody tr th {\n",
       "        vertical-align: top;\n",
       "    }\n",
       "\n",
       "    .dataframe thead th {\n",
       "        text-align: right;\n",
       "    }\n",
       "</style>\n",
       "<table border=\"1\" class=\"dataframe\">\n",
       "  <thead>\n",
       "    <tr style=\"text-align: right;\">\n",
       "      <th></th>\n",
       "      <th>date</th>\n",
       "      <th>ordersCummulativeB</th>\n",
       "      <th>revenueCummulativeB</th>\n",
       "    </tr>\n",
       "  </thead>\n",
       "  <tbody>\n",
       "    <tr>\n",
       "      <th>0</th>\n",
       "      <td>2019-08-01</td>\n",
       "      <td>17</td>\n",
       "      <td>59758</td>\n",
       "    </tr>\n",
       "    <tr>\n",
       "      <th>1</th>\n",
       "      <td>2019-08-02</td>\n",
       "      <td>40</td>\n",
       "      <td>221801</td>\n",
       "    </tr>\n",
       "    <tr>\n",
       "      <th>2</th>\n",
       "      <td>2019-08-03</td>\n",
       "      <td>54</td>\n",
       "      <td>288850</td>\n",
       "    </tr>\n",
       "  </tbody>\n",
       "</table>\n",
       "</div>"
      ],
      "text/plain": [
       "        date  ordersCummulativeB  revenueCummulativeB\n",
       "0 2019-08-01                  17                59758\n",
       "1 2019-08-02                  40               221801\n",
       "2 2019-08-03                  54               288850"
      ]
     },
     "execution_count": 28,
     "metadata": {},
     "output_type": "execute_result"
    }
   ],
   "source": [
    "# рассчитаемм кумулятивную выручку  в группе B\n",
    "ordersBCummulative = ordersBDaily.apply(\n",
    "    lambda x: ordersBDaily[ordersBDaily['date'] <= x['date']].agg(\n",
    "        {'date': 'max', 'ordersPerDateB': 'sum', 'revenuePerDateB': 'sum'}\n",
    "    ),\n",
    "    axis=1,\n",
    ").sort_values(by=['date'])\n",
    "ordersBCummulative.columns = [\n",
    "    'date',\n",
    "    'ordersCummulativeB',\n",
    "    'revenueCummulativeB',\n",
    "]\n",
    "ordersBCummulative.head(3)"
   ]
  },
  {
   "cell_type": "markdown",
   "id": "769a1353-86c3-462f-9e0d-38ce1544bd98",
   "metadata": {},
   "source": [
    "Объединим полученные таблицы в один датафрейм"
   ]
  },
  {
   "cell_type": "code",
   "execution_count": 29,
   "id": "5559993e-8d9b-4ccf-8174-1e977653467a",
   "metadata": {
    "scrolled": true
   },
   "outputs": [
    {
     "data": {
      "text/html": [
       "<div>\n",
       "<style scoped>\n",
       "    .dataframe tbody tr th:only-of-type {\n",
       "        vertical-align: middle;\n",
       "    }\n",
       "\n",
       "    .dataframe tbody tr th {\n",
       "        vertical-align: top;\n",
       "    }\n",
       "\n",
       "    .dataframe thead th {\n",
       "        text-align: right;\n",
       "    }\n",
       "</style>\n",
       "<table border=\"1\" class=\"dataframe\">\n",
       "  <thead>\n",
       "    <tr style=\"text-align: right;\">\n",
       "      <th></th>\n",
       "      <th>date</th>\n",
       "      <th>ordersPerDateA</th>\n",
       "      <th>revenuePerDateA</th>\n",
       "      <th>ordersPerDateB</th>\n",
       "      <th>revenuePerDateB</th>\n",
       "      <th>ordersCummulativeA</th>\n",
       "      <th>revenueCummulativeA</th>\n",
       "      <th>ordersCummulativeB</th>\n",
       "      <th>revenueCummulativeB</th>\n",
       "      <th>visitorsPerDateA</th>\n",
       "      <th>visitorsPerDateB</th>\n",
       "      <th>visitorsCummulativeA</th>\n",
       "      <th>visitorsCummulativeB</th>\n",
       "    </tr>\n",
       "  </thead>\n",
       "  <tbody>\n",
       "    <tr>\n",
       "      <th>0</th>\n",
       "      <td>2019-08-01</td>\n",
       "      <td>23</td>\n",
       "      <td>142779</td>\n",
       "      <td>17</td>\n",
       "      <td>59758</td>\n",
       "      <td>23</td>\n",
       "      <td>142779</td>\n",
       "      <td>17</td>\n",
       "      <td>59758</td>\n",
       "      <td>719</td>\n",
       "      <td>713</td>\n",
       "      <td>719</td>\n",
       "      <td>713</td>\n",
       "    </tr>\n",
       "    <tr>\n",
       "      <th>1</th>\n",
       "      <td>2019-08-02</td>\n",
       "      <td>19</td>\n",
       "      <td>91602</td>\n",
       "      <td>23</td>\n",
       "      <td>162043</td>\n",
       "      <td>42</td>\n",
       "      <td>234381</td>\n",
       "      <td>40</td>\n",
       "      <td>221801</td>\n",
       "      <td>619</td>\n",
       "      <td>581</td>\n",
       "      <td>1338</td>\n",
       "      <td>1294</td>\n",
       "    </tr>\n",
       "  </tbody>\n",
       "</table>\n",
       "</div>"
      ],
      "text/plain": [
       "        date  ordersPerDateA  revenuePerDateA  ordersPerDateB  \\\n",
       "0 2019-08-01              23           142779              17   \n",
       "1 2019-08-02              19            91602              23   \n",
       "\n",
       "   revenuePerDateB  ordersCummulativeA  revenueCummulativeA  \\\n",
       "0            59758                  23               142779   \n",
       "1           162043                  42               234381   \n",
       "\n",
       "   ordersCummulativeB  revenueCummulativeB  visitorsPerDateA  \\\n",
       "0                  17                59758               719   \n",
       "1                  40               221801               619   \n",
       "\n",
       "   visitorsPerDateB  visitorsCummulativeA  visitorsCummulativeB  \n",
       "0               713                   719                   713  \n",
       "1               581                  1338                  1294  "
      ]
     },
     "execution_count": 29,
     "metadata": {},
     "output_type": "execute_result"
    }
   ],
   "source": [
    "# приведем даты во всех датафреймах к datetime\n",
    "dfs = [ordersADaily, ordersBDaily, ordersACummulative, ordersBCummulative, \n",
    "       visitorsADaily, visitorsBDaily, visitorsACummulative, visitorsBCummulative]\n",
    "for df in dfs:\n",
    "    df['date'] = pd.to_datetime(df['date'])\n",
    "\n",
    "df = (\n",
    "    ordersADaily.merge(\n",
    "        ordersBDaily, left_on='date', right_on='date', how='left'\n",
    "    )\n",
    "    .merge(ordersACummulative, left_on='date', right_on='date', how='left')\n",
    "    .merge(ordersBCummulative, left_on='date', right_on='date', how='left')\n",
    "    .merge(visitorsADaily, left_on='date', right_on='date', how='left')\n",
    "    .merge(visitorsBDaily, left_on='date', right_on='date', how='left')\n",
    "    .merge(visitorsACummulative, left_on='date', right_on='date', how='left')\n",
    "    .merge(visitorsBCummulative, left_on='date', right_on='date', how='left')\n",
    ")\n",
    "\n",
    "df.head(2)"
   ]
  },
  {
   "cell_type": "markdown",
   "id": "dc234e67-b5c0-4792-8c78-d2b1883d35ec",
   "metadata": {},
   "source": [
    "**Итог:**\n",
    "Создан сводный датафрейм со следуующими данными:\n",
    "- date — дата;\n",
    "- ordersPerDateA — количество заказов в выбранную дату в группе A;\n",
    "- revenuePerDateA — суммарная выручка в выбранную дату в группе A;\n",
    "- ordersPerDateB — количество заказов в выбранную дату в группе B;\n",
    "- revenuePerDateB — суммарная выручка в выбранную дату в группе B;\n",
    "- ordersCummulativeA — суммарное число заказов до выбранной даты включительно в группе A;\n",
    "- revenueCummulativeA — суммарная выручка до выбранной даты включительно в группе A;\n",
    "- ordersCummulativeB — суммарное количество заказов до выбранной даты включительно в группе B;\n",
    "- revenueCummulativeB — суммарная выручка до выбранной даты включительно в группе B;\n",
    "- visitorsPerDateA — количество пользователей в выбранную дату в группе A;\n",
    "- visitorsPerDateB — количество пользователей в выбранную дату в группе B;\n",
    "- visitorsCummulativeA — количество пользователей до выбранной даты включительно в группе A;\n",
    "- visitorsCummulativeB — количество пользователей до выбранной даты включительно в группе B"
   ]
  },
  {
   "cell_type": "markdown",
   "id": "85b67b65-1cd4-4cbb-ad48-e4faa777ea5c",
   "metadata": {},
   "source": [
    "### Построим график кумулятивной выручки по группам**"
   ]
  },
  {
   "cell_type": "code",
   "execution_count": 30,
   "id": "87f269a5-3e26-44f1-91cb-b5453a991168",
   "metadata": {
    "scrolled": true
   },
   "outputs": [
    {
     "data": {
      "image/png": "[encoded data removed]",
      "text/plain": [
       "<Figure size 432x288 with 1 Axes>"
      ]
     },
     "metadata": {
      "needs_background": "light"
     },
     "output_type": "display_data"
    }
   ],
   "source": [
    "plt.plot(df['date'], df['revenueCummulativeA'], label='A')\n",
    "plt.plot(df['date'], df['revenueCummulativeB'], label='B')\n",
    "plt.xticks(rotation=45)\n",
    "plt.grid(True) \n",
    "plt.xlabel(\"Дата\")\n",
    "plt.ylabel(\"Накопительная выручка\")\n",
    "plt.title(\"Накопительная выручка по группам \\n\")\n",
    "plt.legend()\n",
    "plt.show()\n"
   ]
  },
  {
   "cell_type": "markdown",
   "id": "b65e6f45-ca35-4e0b-8c58-a17658c69b40",
   "metadata": {},
   "source": [
    "**Итог по графику:**\n",
    "1. Группа имеет более высокиую выручку на протяжении всего перода наблюдений.\n",
    "2. Результаты группы B резко возрастают около  18 августа и преимущество над группой А стабилизируется. Резкий скачеок 18 августа нуждается вдополнительном анализе, он может быть связан с аномально высоким количеством заказов  или их аномально высокой суммой."
   ]
  },
  {
   "cell_type": "markdown",
   "id": "8243b205-1b11-4f02-b92a-81a0c4033032",
   "metadata": {},
   "source": [
    "### Постройте график кумулятивного среднего чека по группам**"
   ]
  },
  {
   "cell_type": "code",
   "execution_count": 31,
   "id": "8d6cc5ef-965e-45d4-bfc6-78b8f39aa6c3",
   "metadata": {},
   "outputs": [
    {
     "data": {
      "image/png": "[encoded data removed]",
      "text/plain": [
       "<Figure size 432x288 with 1 Axes>"
      ]
     },
     "metadata": {
      "needs_background": "light"
     },
     "output_type": "display_data"
    }
   ],
   "source": [
    "plt.plot(df['date'], (df['revenueCummulativeA']/df['ordersCummulativeA']), label ='A')\n",
    "plt.plot(df['date'], (df['revenueCummulativeB']/df['ordersCummulativeB']), label ='B')\n",
    "plt.xticks(rotation=45)\n",
    "plt.grid(True) \n",
    "plt.xlabel(\"Дата\")\n",
    "plt.ylabel(\"Накопительная средний чек\")\n",
    "plt.title(\"Накопительный средний чек по группам \\n\")\n",
    "plt.legend()\n",
    "plt.show()"
   ]
  },
  {
   "cell_type": "markdown",
   "id": "0db4347d-60e9-4f8f-911e-482b305fe83c",
   "metadata": {},
   "source": [
    "**Итог по графику**"
   ]
  },
  {
   "cell_type": "raw",
   "id": "003aa682-ab1f-46e6-a37d-76e8743ac01e",
   "metadata": {},
   "source": [
    "- Мы видим, что на большей части графика группа В имеет более высокий средний чек.\n",
    "- В обеих группах мы видим значительные флуктуации, которые скорее всего вызваны аномально высокими и аномальнонизкими средними чеками за день. Т.к. флуктуации наблюдаются в обеих группах, она не связаны и тестируемыми гипотезами.\n",
    "Необходимо  посмотреть динамику кумулятивных средних чеков на данных, очищенных о т выбросоов."
   ]
  },
  {
   "cell_type": "markdown",
   "id": "c5e2b98e-35c0-4b19-bad3-5ffd5f0eb53c",
   "metadata": {},
   "source": [
    "### Построим график относительного изменения кумулятивного среднего чека группы B к группе A**"
   ]
  },
  {
   "cell_type": "code",
   "execution_count": 32,
   "id": "fad8b193-e414-4b1d-9c1b-8f31d5868b54",
   "metadata": {},
   "outputs": [
    {
     "data": {
      "image/png": "[encoded data removed]",
      "text/plain": [
       "<Figure size 432x288 with 1 Axes>"
      ]
     },
     "metadata": {
      "needs_background": "light"
     },
     "output_type": "display_data"
    }
   ],
   "source": [
    "plt.plot(df['date'], (df['revenueCummulativeB']/df['ordersCummulativeB']/(df['revenueCummulativeA']/df['ordersCummulativeA']) - 1))\n",
    "plt.axhline(y=0, color='black', linestyle='--') \n",
    "plt.xticks(rotation=45)\n",
    "plt.grid(True) \n",
    "plt.xlabel(\"Дата\")\n",
    "plt.title(\"Относительное изменение кумулятивного среднего чека группы B к группе A \\n\")\n",
    "plt.show()"
   ]
  },
  {
   "cell_type": "markdown",
   "id": "ef624ae7-ff9f-4a38-b8fd-063ac89ea33b",
   "metadata": {},
   "source": [
    "**Итог по графику:**\n",
    "1. В целом группа В имеет значительно больший средний чек, чем группа А.\n",
    "2. Однако на второй неделе теста мы видим что группа А превосходит В в размере среднего чека.\n",
    "3. На третьей неделе средний чек группы В становится существенно больше, чем у группы А и стабилизируется на уровне +25% к концу теста.\n",
    "4. Необходимо очистить данные от выбросов и  оценить динамику показателей, чтобы получить более объективную картину."
   ]
  },
  {
   "cell_type": "markdown",
   "id": "b8a1add4-ff92-417f-bc1e-2acf1aef0419",
   "metadata": {},
   "source": [
    "### Построим график кумулятивного среднего количества заказов на посетителя по группам**"
   ]
  },
  {
   "cell_type": "code",
   "execution_count": 33,
   "id": "b38dfe9e-3ddb-4578-a6b2-732c9e4c9230",
   "metadata": {},
   "outputs": [
    {
     "name": "stdout",
     "output_type": "stream",
     "text": [
      "['date', 'ordersPerDateA', 'revenuePerDateA', 'ordersPerDateB', 'revenuePerDateB', 'ordersCummulativeA', 'revenueCummulativeA', 'ordersCummulativeB', 'revenueCummulativeB', 'visitorsPerDateA', 'visitorsPerDateB', 'visitorsCummulativeA', 'visitorsCummulativeB']\n"
     ]
    }
   ],
   "source": [
    "print(df.columns.to_list())"
   ]
  },
  {
   "cell_type": "code",
   "execution_count": 34,
   "id": "13261646-ae00-4e96-ae6d-b5c053cf5da5",
   "metadata": {},
   "outputs": [
    {
     "data": {
      "image/png": "[encoded data removed]",
      "text/plain": [
       "<Figure size 432x288 with 1 Axes>"
      ]
     },
     "metadata": {
      "needs_background": "light"
     },
     "output_type": "display_data"
    }
   ],
   "source": [
    "plt.plot(df['date'], df['ordersCummulativeA']/df['visitorsCummulativeA'], label='A')\n",
    "plt.plot(df['date'], df['ordersCummulativeB']/df['visitorsCummulativeB'], label='B')\n",
    "plt.legend()\n",
    "plt.xticks(rotation=45)\n",
    "plt.grid(True) \n",
    "plt.xlabel(\"Дата\")\n",
    "plt.ylabel(\"кол-во заказов\")\n",
    "plt.title(\"Накопительное среднего количества заказов на посетителя по группам\\n\")\n",
    "# plt.axis([\"2019-08-01\", '2019-08-31', 0, 0.015]) \n",
    "\n",
    "plt.show()"
   ]
  },
  {
   "cell_type": "markdown",
   "id": "8d147830-c695-4604-ba03-e8385238381d",
   "metadata": {},
   "source": [
    "**Итог:**\n",
    "1. Графики кумулятивного среднего количества заказов обеих групп имеют значительные флуктуации на первой неделе теста, однако к 6 августа группа В начинает демонстрировать большее среднее количество заказов на пользователя\n",
    "2. Показатели в обеих группах стабилизируются с 8 августа."
   ]
  },
  {
   "cell_type": "markdown",
   "id": "eea41970-927c-4164-8656-369f9ba0b00b",
   "metadata": {},
   "source": [
    "### Построим график относительного изменения кумулятивного среднего количества заказов на посетителя группы B к группе A**"
   ]
  },
  {
   "cell_type": "code",
   "execution_count": 35,
   "id": "02450a12-d6e1-42ae-be96-415bf725e21e",
   "metadata": {},
   "outputs": [
    {
     "data": {
      "image/png": "[encoded data removed]",
      "text/plain": [
       "<Figure size 432x288 with 1 Axes>"
      ]
     },
     "metadata": {
      "needs_background": "light"
     },
     "output_type": "display_data"
    }
   ],
   "source": [
    "plt.plot(df['date']\n",
    "             ,(df['ordersCummulativeB']/df['visitorsCummulativeB'])\n",
    "             /(df['ordersCummulativeA']/df['visitorsCummulativeA']) - 1\n",
    "             # , label=\"Относительный прирост кумулятивного среднего количества заказов на посетителя группы B относительно группы A\"\n",
    "        )\n",
    "plt.xticks(rotation=45)\n",
    "plt.grid(True)\n",
    "plt.title(\"Относительный прирост кумулятивного среднего количества заказов\\n на посетителя группы B относительно группы A \\n\")\n",
    "plt.xlabel(\"Дата\")\n",
    "plt.ylabel(\"Кол-во заказов\")\n",
    "plt.axhline(y=0, color='black', linestyle='--')\n",
    "plt.axhline(y=-0.1, color='grey', linestyle='--')\n",
    "\n",
    "# Устанавливаем границы осей\n",
    "plt.xlim(pd.Timestamp(\"2019-08-01\"), pd.Timestamp(\"2019-08-31\"))\n",
    "plt.ylim(-0.6, 0.6)\n",
    "\n",
    "# Форматирование дат на оси X\n",
    "plt.gca().xaxis.set_major_formatter(mdates.DateFormatter(\"%Y-%m-%d\"))\n",
    "plt.gca().xaxis.set_major_locator(mdates.DayLocator(interval=3))  # Шаг в 3 дня\n",
    "\n",
    "# plt.legend()\n",
    "plt.show()"
   ]
  },
  {
   "cell_type": "markdown",
   "id": "4319ad89-02a9-40d1-872a-7ec9057c8a24",
   "metadata": {},
   "source": [
    "**Итог:**\n",
    "1. В начале теста группа B проигрывала группе A, затем вырвалась вперёд и стабилизровалась и превышает показатели группы B примерно на 17%"
   ]
  },
  {
   "cell_type": "markdown",
   "id": "8401d3d6-3563-46e4-86d1-0adb36d13e39",
   "metadata": {},
   "source": [
    "### Построим точечный график количества заказов по пользователям**"
   ]
  },
  {
   "cell_type": "code",
   "execution_count": 36,
   "id": "002ffa66-c6e3-4a56-9b91-582da658429a",
   "metadata": {},
   "outputs": [
    {
     "data": {
      "image/png": "[encoded data removed]",
      "text/plain": [
       "<Figure size 432x288 with 1 Axes>"
      ]
     },
     "metadata": {
      "needs_background": "light"
     },
     "output_type": "display_data"
    }
   ],
   "source": [
    "ordersByUsers =  orders.groupby('visitorId').agg(\n",
    "    orders = ('transactionId', 'nunique')\n",
    "    ).reset_index()\n",
    "\n",
    "# ordersByUsers.sort_values('orders', ascending = False)\n",
    "x_values=pd.Series(range(0, len(ordersByUsers)))\n",
    "plt.scatter(x_values, ordersByUsers['orders']) \n",
    "plt.grid(True) \n",
    "plt.xlabel(\"кол-во наблюдений\")\n",
    "plt.ylabel(\"кол-во заказов\")\n",
    "plt.title(\" Распределение пользователей по количеству заказов\\n\")\n",
    "plt.show()"
   ]
  },
  {
   "cell_type": "markdown",
   "id": "5da19b14-00c7-497d-b410-342a5c159d33",
   "metadata": {},
   "source": [
    "**Итог по графику:**\n",
    "- большинство пользователей совершило 1-2 заказа за период тестиирования\n",
    "- пользователей, совершивших более 3 закзов значительно меньше, данные по ним выглядят как выбросы. Проведем дополнительный анализ, чтобы определиться стоит ли их исключать из выборки."
   ]
  },
  {
   "cell_type": "markdown",
   "id": "12cd47a1-7201-4e22-93fa-a66cfbc6a257",
   "metadata": {},
   "source": [
    "### Посчитаем 95-й и 99-й перцентили количества заказов на пользователя**"
   ]
  },
  {
   "cell_type": "code",
   "execution_count": 37,
   "id": "07be62b8-2419-45f2-b901-dd0170a85475",
   "metadata": {},
   "outputs": [
    {
     "name": "stdout",
     "output_type": "stream",
     "text": [
      "[1. 2.]\n"
     ]
    }
   ],
   "source": [
    "print(np.percentile(ordersByUsers['orders'], [95, 99]))"
   ]
  },
  {
   "cell_type": "markdown",
   "id": "31eb5e9e-1a5b-4cd8-a480-763212bcf2ac",
   "metadata": {},
   "source": [
    "**Итог:**\n",
    "- Чтобы отсечь пользователей совершающих нетипично большое количество закаказов и способных повлиять на результаты исследование, будем считать выбросами более 2 заказов на человека Это составит менее 1% данных."
   ]
  },
  {
   "cell_type": "markdown",
   "id": "b2490786-de7b-461a-bd1b-972c16bbb84f",
   "metadata": {},
   "source": [
    "### Построим точечный график стоимостей заказов**"
   ]
  },
  {
   "cell_type": "code",
   "execution_count": 38,
   "id": "dbd32dbf-b454-44d5-9fd2-8f3e1b836963",
   "metadata": {},
   "outputs": [
    {
     "data": {
      "image/png": "[encoded data removed]",
      "text/plain": [
       "<Figure size 432x288 with 1 Axes>"
      ]
     },
     "metadata": {
      "needs_background": "light"
     },
     "output_type": "display_data"
    }
   ],
   "source": [
    "x_values = pd.Series(range(0,len(orders['revenue'])))\n",
    "plt.scatter(x_values, orders['revenue']) \n",
    "\n",
    "plt.xlabel(\"кол-во наблюдений\")\n",
    "plt.ylabel(\"сумма заказа\")\n",
    "plt.title(\" Распределение заказов по сумме\\n\")\n",
    "plt.show()"
   ]
  },
  {
   "cell_type": "code",
   "execution_count": 39,
   "id": "b16acf85-0b90-4af7-9a5b-44d75bf180ac",
   "metadata": {},
   "outputs": [
    {
     "data": {
      "text/html": [
       "<div>\n",
       "<style scoped>\n",
       "    .dataframe tbody tr th:only-of-type {\n",
       "        vertical-align: middle;\n",
       "    }\n",
       "\n",
       "    .dataframe tbody tr th {\n",
       "        vertical-align: top;\n",
       "    }\n",
       "\n",
       "    .dataframe thead th {\n",
       "        text-align: right;\n",
       "    }\n",
       "</style>\n",
       "<table border=\"1\" class=\"dataframe\">\n",
       "  <thead>\n",
       "    <tr style=\"text-align: right;\">\n",
       "      <th></th>\n",
       "      <th>transactionId</th>\n",
       "      <th>visitorId</th>\n",
       "      <th>date</th>\n",
       "      <th>revenue</th>\n",
       "      <th>group</th>\n",
       "    </tr>\n",
       "  </thead>\n",
       "  <tbody>\n",
       "    <tr>\n",
       "      <th>425</th>\n",
       "      <td>590470918</td>\n",
       "      <td>1920142716</td>\n",
       "      <td>2019-08-19</td>\n",
       "      <td>1294500</td>\n",
       "      <td>B</td>\n",
       "    </tr>\n",
       "    <tr>\n",
       "      <th>1196</th>\n",
       "      <td>3936777065</td>\n",
       "      <td>2108080724</td>\n",
       "      <td>2019-08-15</td>\n",
       "      <td>202740</td>\n",
       "      <td>B</td>\n",
       "    </tr>\n",
       "  </tbody>\n",
       "</table>\n",
       "</div>"
      ],
      "text/plain": [
       "      transactionId   visitorId       date  revenue group\n",
       "425       590470918  1920142716 2019-08-19  1294500     B\n",
       "1196     3936777065  2108080724 2019-08-15   202740     B"
      ]
     },
     "execution_count": 39,
     "metadata": {},
     "output_type": "execute_result"
    }
   ],
   "source": [
    "# выведем заказы с аномально высокой суммой\n",
    "orders.loc[orders['revenue']>150000]"
   ]
  },
  {
   "cell_type": "markdown",
   "id": "f10c7b87-63ae-42a5-9439-c5d76311dfbe",
   "metadata": {},
   "source": [
    "**Итог:**\n",
    "- вы выборке притствуют как минимум 2 заказа с аномально высокими суммами  - 1,2 и 0,2 млн руб. Оба они сделаны пользователями группы B. Оба они имеют скорее ситуативный характер и не связаны с тестируемым параметром. Либо являются ошибкой. Т.е. это - выбросы, которые должны быть удалены из выборки.\n",
    "Проведем дополнителльный анализ, чтобы определить границу отсечения выбросов."
   ]
  },
  {
   "cell_type": "markdown",
   "id": "d564daf2-0e4d-4994-b2bd-b0ead92751ca",
   "metadata": {},
   "source": [
    "### Посчитаем 95-й и 99-й перцентили стоимости заказов**"
   ]
  },
  {
   "cell_type": "code",
   "execution_count": 40,
   "id": "2ca8cbe4-9667-470b-a4bb-db5d86866822",
   "metadata": {},
   "outputs": [
    {
     "name": "stdout",
     "output_type": "stream",
     "text": [
      "[26785. 53904.]\n"
     ]
    }
   ],
   "source": [
    "print(np.percentile(orders['revenue'], [95, 99]))"
   ]
  },
  {
   "cell_type": "markdown",
   "id": "a6c48694-403b-4c65-8786-6090b27f979b",
   "metadata": {},
   "source": [
    "**Итог:**\n",
    "- резкий всплеск суммы среднего чека в группе B на третьей неделе теста связан с заказами с аномально высокой суммой\n",
    "- стоимость  99% заказов  не превышает 53904 руб. Удалим из выборки заказы выше этой суммы"
   ]
  },
  {
   "cell_type": "markdown",
   "id": "1b7c9ec9",
   "metadata": {},
   "source": [
    "## Рассчитаем статистическую значимости для тестируемых гипотез"
   ]
  },
  {
   "cell_type": "markdown",
   "id": "938b3910-acaf-42e8-8cc0-b737a17ae66d",
   "metadata": {},
   "source": [
    "### Посчитаем статистическую значимость различий в среднем количестве заказов на посетителя между группами по «сырым» данным**"
   ]
  },
  {
   "cell_type": "markdown",
   "id": "8fc0465a-1d87-44e5-8601-c37457779421",
   "metadata": {},
   "source": [
    "- Н0: Значимыйх различий в среднем количестве заказов на посетителя между группами  А и В нет\n",
    "- Н1: Пользователи группы B в среднем делают больше заказов, чем пользователи группы А\n",
    "- Уровень статистической значимости - 5%"
   ]
  },
  {
   "cell_type": "code",
   "execution_count": 41,
   "id": "b0cfbe5c-64df-4a5b-a80f-0834fc1eb3b1",
   "metadata": {},
   "outputs": [
    {
     "data": {
      "text/html": [
       "<div>\n",
       "<style scoped>\n",
       "    .dataframe tbody tr th:only-of-type {\n",
       "        vertical-align: middle;\n",
       "    }\n",
       "\n",
       "    .dataframe tbody tr th {\n",
       "        vertical-align: top;\n",
       "    }\n",
       "\n",
       "    .dataframe thead th {\n",
       "        text-align: right;\n",
       "    }\n",
       "</style>\n",
       "<table border=\"1\" class=\"dataframe\">\n",
       "  <thead>\n",
       "    <tr style=\"text-align: right;\">\n",
       "      <th></th>\n",
       "      <th>userId</th>\n",
       "      <th>orders</th>\n",
       "    </tr>\n",
       "  </thead>\n",
       "  <tbody>\n",
       "    <tr>\n",
       "      <th>0</th>\n",
       "      <td>5114589</td>\n",
       "      <td>1</td>\n",
       "    </tr>\n",
       "    <tr>\n",
       "      <th>1</th>\n",
       "      <td>6958315</td>\n",
       "      <td>1</td>\n",
       "    </tr>\n",
       "  </tbody>\n",
       "</table>\n",
       "</div>"
      ],
      "text/plain": [
       "    userId  orders\n",
       "0  5114589       1\n",
       "1  6958315       1"
      ]
     },
     "execution_count": 41,
     "metadata": {},
     "output_type": "execute_result"
    }
   ],
   "source": [
    "# Создадим переменные ordersByUsersA и ordersByUsersB со столбцами ['userId', 'orders']. \n",
    "# В них для пользователей, которые заказывали хотя бы 1 раз, укажем число совершённых заказов.\n",
    "ordersByUsersA = (\n",
    "    orders[orders['group'] == 'A']\n",
    "    .groupby('visitorId', as_index=False)\n",
    "    .agg({'transactionId': pd.Series.nunique})\n",
    ")\n",
    "ordersByUsersA.columns = ['userId', 'orders']\n",
    "\n",
    "ordersByUsersB = (\n",
    "    orders[orders['group'] == 'B']\n",
    "    .groupby('visitorId', as_index=False)\n",
    "    .agg({'transactionId': pd.Series.nunique})\n",
    ")\n",
    "ordersByUsersB.columns = ['userId', 'orders'] \n",
    "ordersByUsersB.head(2)"
   ]
  },
  {
   "cell_type": "code",
   "execution_count": 42,
   "id": "6699e76f-2d95-42f1-b4fd-5bd73385e6bb",
   "metadata": {},
   "outputs": [
    {
     "data": {
      "image/png": "[encoded data removed]",
      "text/plain": [
       "<Figure size 504x216 with 1 Axes>"
      ]
     },
     "metadata": {
      "needs_background": "light"
     },
     "output_type": "display_data"
    }
   ],
   "source": [
    "# Оценим распределение данных в выборках \n",
    "plt.figure(figsize=(7, 3))  # Задаем размер графика\n",
    "\n",
    "plt.hist(ordersByUsersA['orders'], bins=20, alpha=0.3, label=\"Группа A\", color=\"blue\", edgecolor=\"black\")\n",
    "plt.hist(ordersByUsersB['orders'], bins=20, alpha=0.3, label=\"Группа B\", color=\"red\", edgecolor=\"black\")\n",
    "\n",
    "plt.xlabel(\"Количество заказов\")\n",
    "plt.ylabel(\"Частота\")\n",
    "plt.title(\"Распределение количества заказов на пользователя \\n\")\n",
    "plt.legend()\n",
    "plt.grid(True)  # Добавляем сетку для удобства\n",
    "\n",
    "plt.show()"
   ]
  },
  {
   "cell_type": "markdown",
   "id": "02144868-7e28-4a06-8f55-7f40c88dee48",
   "metadata": {},
   "source": [
    "Т.к. распределение параметра не является нормальным, применим к данным критерий Манна-Уитни"
   ]
  },
  {
   "cell_type": "code",
   "execution_count": 43,
   "id": "cac20df7-606f-46cd-b3ed-204ffea3d8b0",
   "metadata": {},
   "outputs": [
    {
     "data": {
      "text/plain": [
       "0     1\n",
       "1     1\n",
       "2     1\n",
       "3     1\n",
       "4     1\n",
       "     ..\n",
       "95    1\n",
       "96    1\n",
       "97    1\n",
       "98    1\n",
       "99    1\n",
       "Name: orders, Length: 100, dtype: int64"
      ]
     },
     "execution_count": 43,
     "metadata": {},
     "output_type": "execute_result"
    }
   ],
   "source": [
    "# Подготовим выборки к проверке критерием Манна-Уитни.\n",
    "# Объявим переменные sampleA и sampleB, в которых пользователям из разных групп будет соответствовать количество заказов. \n",
    "# Тем, кто ничего не заказал, будут соответствовать нули. \n",
    "\n",
    "sampleA = pd.concat([ordersByUsersA['orders']\n",
    "                     ,pd.Series(0, index=np.arange(df['visitorsPerDateA'].sum() - len(ordersByUsersA['orders'])), name='orders')],axis=0)\n",
    "\n",
    "sampleB = pd.concat([ordersByUsersB['orders']\n",
    "                     ,pd.Series(0, index=np.arange(df['visitorsPerDateB'].sum() - len(ordersByUsersB['orders'])), name='orders')],axis=0)\n",
    "\n",
    "sampleA.head(100)"
   ]
  },
  {
   "cell_type": "code",
   "execution_count": 44,
   "id": "7fd3704c-ded0-4502-9da1-d70288498d19",
   "metadata": {},
   "outputs": [
    {
     "name": "stdout",
     "output_type": "stream",
     "text": [
      "Результаты теста на неочищенных данных:\n",
      "p-value: 0.011\n",
      "Относительное изменение среднего числа заказов: 0.160\n"
     ]
    }
   ],
   "source": [
    "print(\"Результаты теста на неочищенных данных:\")\n",
    "print(f'p-value: {\"{0:.3f}\".format(stats.mannwhitneyu(sampleA, sampleB)[1])}')\n",
    "print(f'Относительное изменение среднего числа заказов: {\"{0:.3f}\".format(sampleB.mean() / sampleA.mean() - 1)}')"
   ]
  },
  {
   "cell_type": "markdown",
   "id": "d7d08bbc-fbf1-4a8c-82da-261f6af84824",
   "metadata": {},
   "source": [
    "**Итог:**\n",
    "- p-value < уровня стат. значимости - отвергаем гипотезу о равенстве среднего количества заказов среди пользователей обеих групп\n",
    "- Среднее количество заказов на одного пользователя в группе В превосходит этот показатель в группе А на 16%"
   ]
  },
  {
   "cell_type": "markdown",
   "id": "b51843d2-0183-433d-930f-f31c954d4939",
   "metadata": {},
   "source": [
    "### Посчитаем статистическую значимость различий в среднем чеке заказа между группами по «сырым» данным\n",
    "- Н0: между средним чеком в группе А и средним чеком в группе В нет статистически значимой разницы\n",
    "- Н1: средний чек в группе В больше чем в группе А\n",
    "- Уровень статистической значисмости - 5%"
   ]
  },
  {
   "cell_type": "code",
   "execution_count": 45,
   "id": "06a0ab59-9613-4027-b9c6-8c7cb05ae6ee",
   "metadata": {},
   "outputs": [
    {
     "data": {
      "image/png": "[encoded data removed]",
      "text/plain": [
       "<Figure size 720x216 with 1 Axes>"
      ]
     },
     "metadata": {
      "needs_background": "light"
     },
     "output_type": "display_data"
    }
   ],
   "source": [
    "# Оценим распределение данных в выборках \n",
    "plt.figure(figsize=(10, 3))  # Задаем размер графика\n",
    "plt.hist(orders[orders['group']=='B']['revenue'], bins=100, alpha=0.5, label=\"Группа B\", color=\"red\", edgecolor=\"black\")\n",
    "plt.hist(orders[orders['group']=='A']['revenue'], bins=100, alpha=0.3, label=\"Группа A\", color=\"blue\", edgecolor=\"black\")\n",
    "\n",
    "plt.xlabel(\"Сумма заказов\")\n",
    "plt.ylabel(\"Частота\")\n",
    "plt.title(\"Распределение суммы заказов  \\n\")\n",
    "plt.legend()\n",
    "plt.grid(True)  # Добавляем сетку для удобства\n",
    "\n",
    "plt.show()"
   ]
  },
  {
   "cell_type": "code",
   "execution_count": 46,
   "id": "f40f4fc5-4f13-4eff-a935-1f250dd7b33f",
   "metadata": {},
   "outputs": [
    {
     "name": "stdout",
     "output_type": "stream",
     "text": [
      "Результаты теста на неочищенных данных:\n",
      "p-value: 0.829\n",
      "Относительное изменение среднего чека В к А: 0.287\n"
     ]
    }
   ],
   "source": [
    "print(\"Результаты теста на неочищенных данных:\")\n",
    "print(f\"p-value: {'{0:.3f}'.format(stats.mannwhitneyu(orders[orders['group']=='A']['revenue'], orders[orders['group']=='B']['revenue'])[1])}\")\n",
    "print(f\"Относительное изменение среднего чека В к А: {'{0:.3f}'.format(orders[orders['group']=='B']['revenue'].mean()/orders[orders['group']=='A']['revenue'].mean()-1)}\")"
   ]
  },
  {
   "cell_type": "markdown",
   "id": "8ee75d34-d636-48f8-9137-6470f9108b2c",
   "metadata": {},
   "source": [
    "**Итог:**\n",
    "\n",
    "- Средний чек в группе В превосходит этот  показатель в группе А на 28.7 %. \n",
    "- При этом наблюдаемая разница в средних чеках групп А и В не являеся статистически значимой: p-value > уровня стат. значимости - нет оснований отвергать гипотезу об отсутствии статистически значимых различий в средних чеках обеих групп.\n",
    "- Проверим выводы на данных очищенных от выбросов. "
   ]
  },
  {
   "cell_type": "markdown",
   "id": "3d0a8d3d-bbcf-4228-8246-e231d835ea8d",
   "metadata": {},
   "source": [
    "### Посчитаем статистическую значимость различий в среднем количестве заказов на посетителя между группами по «очищенным» данным."
   ]
  },
  {
   "cell_type": "code",
   "execution_count": 47,
   "id": "d8128110-29ec-4622-9471-7ea4375733bb",
   "metadata": {},
   "outputs": [
    {
     "name": "stdout",
     "output_type": "stream",
     "text": [
      "1099    148427295\n",
      "33      249864742\n",
      "58      611059232\n",
      "949     887908475\n",
      "744     888512513\n",
      "dtype: int64\n",
      "16\n"
     ]
    }
   ],
   "source": [
    "# объединим пользователей с аномально высоким числом или суммой заказа в один список\n",
    "usersWithManyOrders = pd.concat(\n",
    "    [\n",
    "        ordersByUsersA[ordersByUsersA['orders'] >= 3]['userId'],\n",
    "        ordersByUsersB[ordersByUsersB['orders'] >= 3]['userId'],\n",
    "    ],\n",
    "    axis=0,\n",
    ")\n",
    "usersWithExpensiveOrders = orders[orders['revenue'] > 53904]['visitorId']\n",
    "\n",
    "abnormalUsers = (\n",
    "    pd.concat([usersWithManyOrders, usersWithExpensiveOrders], axis=0)\n",
    "    .drop_duplicates()\n",
    "    .sort_values()\n",
    ")\n",
    "print(abnormalUsers.head(5))\n",
    "print(abnormalUsers.shape[0]) "
   ]
  },
  {
   "cell_type": "code",
   "execution_count": 48,
   "id": "d57946a7-92e4-4f16-b33d-a6c35c4138e6",
   "metadata": {},
   "outputs": [],
   "source": [
    "# Уберем из группы А аномальных пользователей\n",
    "sampleAFiltered = pd.concat(\n",
    "    [\n",
    "        ordersByUsersA[\n",
    "            ~(ordersByUsersA['userId'].isin(abnormalUsers))\n",
    "        ]['orders'],\n",
    "        pd.Series(\n",
    "            0,\n",
    "            index=np.arange(\n",
    "                df['visitorsPerDateA'].sum() - len(ordersByUsersA['orders'])\n",
    "            ),\n",
    "            name='orders',\n",
    "        ),\n",
    "    ],\n",
    "    axis=0,\n",
    ")\n",
    "\n",
    "# Уберем из группы B аномальных пользователей\n",
    "sampleBFiltered = pd.concat(\n",
    "    [\n",
    "        ordersByUsersB[\n",
    "            np.logical_not(ordersByUsersB['userId'].isin(abnormalUsers))\n",
    "        ]['orders'],\n",
    "        pd.Series(\n",
    "            0,\n",
    "            index=np.arange(\n",
    "                df['visitorsPerDateB'].sum() - len(ordersByUsersB['orders'])\n",
    "            ),\n",
    "            name='orders',\n",
    "        ),\n",
    "    ],\n",
    "    axis=0,\n",
    ")"
   ]
  },
  {
   "cell_type": "code",
   "execution_count": 49,
   "id": "fba0a58c-395a-4506-b94d-69ccd5ca9934",
   "metadata": {},
   "outputs": [
    {
     "name": "stdout",
     "output_type": "stream",
     "text": [
      "\n",
      "Результаты теста на неочищенных данных:\n",
      "p-value: 0.011\n",
      "Относительное изменение среднего числа заказов в группе В к А: 0.160\n",
      "\n",
      "Результаты теста на очищенных данных:\n",
      "p-value: 0.007\n",
      "Относительное изменение среднего числа заказов в группе В к А: 0.189\n"
     ]
    }
   ],
   "source": [
    "print()\n",
    "print(\"Результаты теста на неочищенных данных:\")\n",
    "print(f'p-value: {\"{0:.3f}\".format(stats.mannwhitneyu(sampleA, sampleB)[1])}')\n",
    "print(f'Относительное изменение среднего числа заказов в группе В к А: {\"{0:.3f}\".format(sampleB.mean() / sampleA.mean() - 1)}')\n",
    "print()\n",
    "print(\"Результаты теста на очищенных данных:\")\n",
    "print(f'p-value: {\"{0:.3f}\".format(stats.mannwhitneyu(sampleAFiltered, sampleBFiltered)[1])}')\n",
    "print(f'Относительное изменение среднего числа заказов в группе В к А: {\"{0:.3f}\".format(sampleBFiltered.mean() / sampleAFiltered.mean() - 1)}')"
   ]
  },
  {
   "cell_type": "markdown",
   "id": "fe9e0778-9ca0-4ea6-a93c-1268a11adec3",
   "metadata": {},
   "source": [
    "**Итог:**\n",
    "- на очищенных данных выводы относительно изменения среднего чека кардинально не поменялись:\n",
    "1.  p-value < уровня стат. значимости - отвергаем гипотезу о равенстве среднего количества заказов среди пользователей обеих групп\n",
    "2. Среднее количество заказов на одного пользователя в группе В превосходит этот показатель в группе А на 18%\n"
   ]
  },
  {
   "cell_type": "markdown",
   "id": "e85513f8",
   "metadata": {},
   "source": [
    "### Посчитаем статистическую значимость различий в среднем чеке заказа между группами по «очищенным» данным"
   ]
  },
  {
   "cell_type": "code",
   "execution_count": 50,
   "id": "035cbe16-9166-4893-a814-5b04db4854bc",
   "metadata": {},
   "outputs": [
    {
     "data": {
      "text/html": [
       "<div>\n",
       "<style scoped>\n",
       "    .dataframe tbody tr th:only-of-type {\n",
       "        vertical-align: middle;\n",
       "    }\n",
       "\n",
       "    .dataframe tbody tr th {\n",
       "        vertical-align: top;\n",
       "    }\n",
       "\n",
       "    .dataframe thead th {\n",
       "        text-align: right;\n",
       "    }\n",
       "</style>\n",
       "<table border=\"1\" class=\"dataframe\">\n",
       "  <thead>\n",
       "    <tr style=\"text-align: right;\">\n",
       "      <th></th>\n",
       "      <th>transactionId</th>\n",
       "      <th>visitorId</th>\n",
       "      <th>date</th>\n",
       "      <th>revenue</th>\n",
       "      <th>group</th>\n",
       "    </tr>\n",
       "  </thead>\n",
       "  <tbody>\n",
       "    <tr>\n",
       "      <th>0</th>\n",
       "      <td>3667963787</td>\n",
       "      <td>3312258926</td>\n",
       "      <td>2019-08-15</td>\n",
       "      <td>1650</td>\n",
       "      <td>B</td>\n",
       "    </tr>\n",
       "    <tr>\n",
       "      <th>1</th>\n",
       "      <td>2804400009</td>\n",
       "      <td>3642806036</td>\n",
       "      <td>2019-08-15</td>\n",
       "      <td>730</td>\n",
       "      <td>B</td>\n",
       "    </tr>\n",
       "    <tr>\n",
       "      <th>3</th>\n",
       "      <td>3797467345</td>\n",
       "      <td>1196621759</td>\n",
       "      <td>2019-08-15</td>\n",
       "      <td>9759</td>\n",
       "      <td>B</td>\n",
       "    </tr>\n",
       "    <tr>\n",
       "      <th>4</th>\n",
       "      <td>2282983706</td>\n",
       "      <td>2322279887</td>\n",
       "      <td>2019-08-15</td>\n",
       "      <td>2308</td>\n",
       "      <td>B</td>\n",
       "    </tr>\n",
       "    <tr>\n",
       "      <th>5</th>\n",
       "      <td>182168103</td>\n",
       "      <td>935554773</td>\n",
       "      <td>2019-08-15</td>\n",
       "      <td>2210</td>\n",
       "      <td>B</td>\n",
       "    </tr>\n",
       "  </tbody>\n",
       "</table>\n",
       "</div>"
      ],
      "text/plain": [
       "   transactionId   visitorId       date  revenue group\n",
       "0     3667963787  3312258926 2019-08-15     1650     B\n",
       "1     2804400009  3642806036 2019-08-15      730     B\n",
       "3     3797467345  1196621759 2019-08-15     9759     B\n",
       "4     2282983706  2322279887 2019-08-15     2308     B\n",
       "5      182168103   935554773 2019-08-15     2210     B"
      ]
     },
     "execution_count": 50,
     "metadata": {},
     "output_type": "execute_result"
    }
   ],
   "source": [
    " orders.head(5)"
   ]
  },
  {
   "cell_type": "code",
   "execution_count": 51,
   "id": "874d9a11-c18a-499f-bef2-6ad91e586295",
   "metadata": {
    "scrolled": true
   },
   "outputs": [
    {
     "name": "stdout",
     "output_type": "stream",
     "text": [
      "\n",
      "Результаты теста на неочищенных данных:\n",
      "p-value: 0.829\n",
      "Относительное изменение среднего чека В к А: 0.287\n",
      "\n",
      "Результаты теста на очищенных данных:\n",
      "p-value: 0.788\n",
      "Относительное изменение среднего чека В к А: -0.032335\n"
     ]
    }
   ],
   "source": [
    "# Вычисляем p_value\n",
    "p_value = stats.mannwhitneyu(\n",
    "    orders[\n",
    "        np.logical_and(\n",
    "            orders['group'] == 'A',\n",
    "            np.logical_not(orders['visitorId'].isin(abnormalUsers)),\n",
    "        )\n",
    "    ]['revenue'],\n",
    "    orders[\n",
    "        np.logical_and(\n",
    "            orders['group'] == 'B',\n",
    "            np.logical_not(orders['visitorId'].isin(abnormalUsers)),\n",
    "        )\n",
    "    ]['revenue'],\n",
    ")[1]\n",
    "\n",
    "# Вычисляем относительное изменение среднего чека\n",
    "prof = (\n",
    "    orders[\n",
    "        np.logical_and(\n",
    "            orders['group'] == 'B',\n",
    "            np.logical_not(orders['visitorId'].isin(abnormalUsers)),\n",
    "        )\n",
    "    ]['revenue'].mean()\n",
    "    / orders[\n",
    "        np.logical_and(\n",
    "            orders['group'] == 'A',\n",
    "            np.logical_not(orders['visitorId'].isin(abnormalUsers)),\n",
    "        )\n",
    "    ]['revenue'].mean()\n",
    "    - 1\n",
    ")\n",
    "\n",
    "# Выводим результаты\n",
    "print()\n",
    "print(\"Результаты теста на неочищенных данных:\")\n",
    "print(f\"p-value: {'{0:.3f}'.format(stats.mannwhitneyu(orders[orders['group']=='A']['revenue'], orders[orders['group']=='B']['revenue'])[1])}\")\n",
    "print(f\"Относительное изменение среднего чека В к А: {'{0:.3f}'.format(orders[orders['group']=='B']['revenue'].mean()/orders[orders['group']=='A']['revenue'].mean()-1)}\")\n",
    "print()\n",
    "print(\"Результаты теста на очищенных данных:\")\n",
    "print(f\"p-value: {p_value:.3f}\")\n",
    "print(f\"Относительное изменение среднего чека В к А: {prof:3f}\")\n"
   ]
  },
  {
   "cell_type": "markdown",
   "id": "55a190ab",
   "metadata": {},
   "source": [
    "**Итог:**\n",
    "- После анализа на очищенных данных выводы частично скорректировались:\n",
    "1. Относительное изменение среднего чека в группе В к группе А составило -3%. \n",
    "2. Разница между полученными показателями не является статистически значимой, т.к. по результатм стат.теста нет оснований отвергать гипотезу об отсутствии значимых различий между показателями обеих групп."
   ]
  },
  {
   "cell_type": "markdown",
   "id": "6dc25ec8-4155-4434-8bb6-d2935f744223",
   "metadata": {},
   "source": [
    "## Итог:"
   ]
  },
  {
   "cell_type": "markdown",
   "id": "5e31a7b4-2e23-4010-b4d0-c96072d65f3c",
   "metadata": {},
   "source": [
    "1. Обнаружена статистически значимая разница между группами по показателю \"Среднее количество заказов на пользователя\". В группе В этот показатель выше, чем  в группе А примерно на 16%"
   ]
  },
  {
   "cell_type": "markdown",
   "id": "e8341d38-64b2-4a08-9951-971aa1b4a701",
   "metadata": {},
   "source": [
    "2. Не обнаружено статистически значимой разницы между группами по показателю \"Средний чек\". Относительное изменение среднего чека в группеИ к Группе А  составляет -3%.\n",
    "\n",
    "Скачок в показателях на графиках обусловлен выбросами в данных: несколькими заказами с аномально высокой суммой. Такие заказы, как правило, носят случайный характер и не связаны с тестируемыми изменениями."
   ]
  },
  {
   "cell_type": "markdown",
   "id": "89f196f1",
   "metadata": {},
   "source": [
    "**Вывод по результатам теста:**\n",
    "- Фиксируем статистически значимое преимущество группы В по показателю \"Среднее количество заказов на пользователя\" (+16%) и останавливаем тест.\n",
    "\n"
   ]
  }
 ],
 "metadata": {
  "ExecuteTimeLog": [
   {
    "duration": 1534,
    "start_time": "2025-02-12T11:53:31.473Z"
   },
   {
    "duration": 63,
    "start_time": "2025-02-12T11:53:33.009Z"
   },
   {
    "duration": 15,
    "start_time": "2025-02-12T11:53:33.073Z"
   },
   {
    "duration": 20,
    "start_time": "2025-02-12T11:53:33.090Z"
   },
   {
    "duration": 14,
    "start_time": "2025-02-12T11:53:33.112Z"
   },
   {
    "duration": 138,
    "start_time": "2025-02-12T11:53:33.128Z"
   },
   {
    "duration": 8,
    "start_time": "2025-02-12T11:53:33.267Z"
   },
   {
    "duration": 16,
    "start_time": "2025-02-12T11:53:33.277Z"
   },
   {
    "duration": 23,
    "start_time": "2025-02-12T11:53:33.295Z"
   },
   {
    "duration": 15,
    "start_time": "2025-02-12T11:53:33.320Z"
   },
   {
    "duration": 9,
    "start_time": "2025-02-12T11:53:33.336Z"
   },
   {
    "duration": 7,
    "start_time": "2025-02-12T11:53:33.347Z"
   },
   {
    "duration": 5,
    "start_time": "2025-02-12T11:53:33.355Z"
   },
   {
    "duration": 5,
    "start_time": "2025-02-12T11:53:33.363Z"
   },
   {
    "duration": 15,
    "start_time": "2025-02-12T11:53:33.370Z"
   },
   {
    "duration": 30,
    "start_time": "2025-02-12T11:53:33.386Z"
   },
   {
    "duration": 17,
    "start_time": "2025-02-12T11:53:33.418Z"
   },
   {
    "duration": 9,
    "start_time": "2025-02-12T11:53:33.436Z"
   },
   {
    "duration": 4,
    "start_time": "2025-02-12T11:53:33.446Z"
   },
   {
    "duration": 4,
    "start_time": "2025-02-12T11:53:33.452Z"
   },
   {
    "duration": 78,
    "start_time": "2025-02-12T11:53:33.457Z"
   },
   {
    "duration": 53,
    "start_time": "2025-02-12T11:53:33.536Z"
   },
   {
    "duration": 26,
    "start_time": "2025-02-12T11:53:33.591Z"
   },
   {
    "duration": 30,
    "start_time": "2025-02-12T11:53:33.619Z"
   },
   {
    "duration": 64,
    "start_time": "2025-02-12T11:53:33.651Z"
   },
   {
    "duration": 34,
    "start_time": "2025-02-12T11:53:33.717Z"
   },
   {
    "duration": 64,
    "start_time": "2025-02-12T11:53:33.753Z"
   },
   {
    "duration": 41,
    "start_time": "2025-02-12T11:53:33.818Z"
   },
   {
    "duration": 297,
    "start_time": "2025-02-12T11:53:33.860Z"
   },
   {
    "duration": 225,
    "start_time": "2025-02-12T11:53:34.159Z"
   },
   {
    "duration": 467,
    "start_time": "2025-02-12T11:53:34.386Z"
   },
   {
    "duration": 4,
    "start_time": "2025-02-12T11:53:34.854Z"
   },
   {
    "duration": 258,
    "start_time": "2025-02-12T11:53:34.859Z"
   },
   {
    "duration": 318,
    "start_time": "2025-02-12T11:53:35.118Z"
   },
   {
    "duration": 175,
    "start_time": "2025-02-12T11:53:35.438Z"
   },
   {
    "duration": 4,
    "start_time": "2025-02-12T11:53:35.615Z"
   },
   {
    "duration": 168,
    "start_time": "2025-02-12T11:53:35.621Z"
   },
   {
    "duration": 10,
    "start_time": "2025-02-12T11:53:35.790Z"
   },
   {
    "duration": 24,
    "start_time": "2025-02-12T11:53:35.801Z"
   },
   {
    "duration": 142,
    "start_time": "2025-02-12T11:53:35.827Z"
   },
   {
    "duration": 235,
    "start_time": "2025-02-12T11:53:35.973Z"
   },
   {
    "duration": 11,
    "start_time": "2025-02-12T11:53:36.209Z"
   },
   {
    "duration": 31,
    "start_time": "2025-02-12T11:53:36.221Z"
   },
   {
    "duration": 517,
    "start_time": "2025-02-12T11:53:36.254Z"
   },
   {
    "duration": 9,
    "start_time": "2025-02-12T11:53:36.773Z"
   },
   {
    "duration": 10,
    "start_time": "2025-02-12T11:53:36.783Z"
   },
   {
    "duration": 25,
    "start_time": "2025-02-12T11:53:36.795Z"
   },
   {
    "duration": 55,
    "start_time": "2025-02-12T11:53:36.821Z"
   },
   {
    "duration": 8,
    "start_time": "2025-02-12T11:53:36.877Z"
   },
   {
    "duration": 32,
    "start_time": "2025-02-12T11:53:36.887Z"
   },
   {
    "duration": 1756,
    "start_time": "2025-02-13T08:10:47.531Z"
   },
   {
    "duration": 379,
    "start_time": "2025-02-13T08:12:48.547Z"
   },
   {
    "duration": 111,
    "start_time": "2025-02-13T08:31:58.838Z"
   },
   {
    "duration": 172,
    "start_time": "2025-02-13T08:32:11.500Z"
   },
   {
    "duration": 52,
    "start_time": "2025-02-13T08:32:12.403Z"
   },
   {
    "duration": 10,
    "start_time": "2025-02-13T08:32:13.283Z"
   },
   {
    "duration": 11,
    "start_time": "2025-02-13T08:32:14.090Z"
   },
   {
    "duration": 11,
    "start_time": "2025-02-13T08:32:15.030Z"
   },
   {
    "duration": 332,
    "start_time": "2025-02-13T08:32:16.863Z"
   },
   {
    "duration": 417,
    "start_time": "2025-02-13T08:34:06.253Z"
   },
   {
    "duration": 197,
    "start_time": "2025-02-13T08:34:45.461Z"
   },
   {
    "duration": 357,
    "start_time": "2025-02-13T08:44:22.943Z"
   },
   {
    "duration": 361,
    "start_time": "2025-02-13T08:44:48.381Z"
   },
   {
    "duration": 185,
    "start_time": "2025-02-13T08:45:20.114Z"
   },
   {
    "duration": 348,
    "start_time": "2025-02-13T08:45:23.090Z"
   },
   {
    "duration": 342,
    "start_time": "2025-02-13T08:46:31.602Z"
   },
   {
    "duration": 79,
    "start_time": "2025-02-13T08:46:52.576Z"
   },
   {
    "duration": 106,
    "start_time": "2025-02-13T08:46:56.872Z"
   },
   {
    "duration": 337,
    "start_time": "2025-02-13T08:47:10.130Z"
   },
   {
    "duration": 360,
    "start_time": "2025-02-13T08:47:19.733Z"
   },
   {
    "duration": 374,
    "start_time": "2025-02-13T08:47:31.564Z"
   },
   {
    "duration": 443,
    "start_time": "2025-02-13T08:47:50.221Z"
   },
   {
    "duration": 327,
    "start_time": "2025-02-13T08:49:10.157Z"
   },
   {
    "duration": 324,
    "start_time": "2025-02-13T08:52:35.014Z"
   },
   {
    "duration": 315,
    "start_time": "2025-02-13T08:53:25.287Z"
   },
   {
    "duration": 65,
    "start_time": "2025-02-13T09:21:57.992Z"
   },
   {
    "duration": 11,
    "start_time": "2025-02-13T09:25:50.391Z"
   },
   {
    "duration": 9,
    "start_time": "2025-02-13T09:25:55.483Z"
   },
   {
    "duration": 5,
    "start_time": "2025-02-13T09:26:07.303Z"
   },
   {
    "duration": 75,
    "start_time": "2025-02-13T09:26:07.310Z"
   },
   {
    "duration": 7,
    "start_time": "2025-02-13T09:26:07.387Z"
   },
   {
    "duration": 14,
    "start_time": "2025-02-13T09:26:07.396Z"
   },
   {
    "duration": 49,
    "start_time": "2025-02-13T09:26:07.412Z"
   },
   {
    "duration": 360,
    "start_time": "2025-02-13T09:26:07.463Z"
   },
   {
    "duration": 147,
    "start_time": "2025-02-13T09:26:07.824Z"
   },
   {
    "duration": 7,
    "start_time": "2025-02-13T09:26:07.973Z"
   },
   {
    "duration": 96,
    "start_time": "2025-02-13T09:26:07.981Z"
   },
   {
    "duration": 20,
    "start_time": "2025-02-13T09:26:08.079Z"
   },
   {
    "duration": 7,
    "start_time": "2025-02-13T09:26:08.101Z"
   },
   {
    "duration": 29,
    "start_time": "2025-02-13T09:26:08.109Z"
   },
   {
    "duration": 9,
    "start_time": "2025-02-13T09:26:08.140Z"
   },
   {
    "duration": 18,
    "start_time": "2025-02-13T09:26:08.150Z"
   },
   {
    "duration": 7,
    "start_time": "2025-02-13T09:26:08.170Z"
   },
   {
    "duration": 7,
    "start_time": "2025-02-13T09:26:08.179Z"
   },
   {
    "duration": 15,
    "start_time": "2025-02-13T09:26:08.188Z"
   },
   {
    "duration": 23,
    "start_time": "2025-02-13T09:26:08.204Z"
   },
   {
    "duration": 22,
    "start_time": "2025-02-13T09:26:08.228Z"
   },
   {
    "duration": 16,
    "start_time": "2025-02-13T09:26:08.251Z"
   },
   {
    "duration": 6,
    "start_time": "2025-02-13T09:26:08.269Z"
   },
   {
    "duration": 51,
    "start_time": "2025-02-13T09:26:08.276Z"
   },
   {
    "duration": 51,
    "start_time": "2025-02-13T09:26:08.329Z"
   },
   {
    "duration": 29,
    "start_time": "2025-02-13T09:26:08.382Z"
   },
   {
    "duration": 22,
    "start_time": "2025-02-13T09:26:08.413Z"
   },
   {
    "duration": 50,
    "start_time": "2025-02-13T09:26:08.437Z"
   },
   {
    "duration": 27,
    "start_time": "2025-02-13T09:26:08.489Z"
   },
   {
    "duration": 149,
    "start_time": "2025-02-13T09:26:08.519Z"
   },
   {
    "duration": 36,
    "start_time": "2025-02-13T09:26:08.670Z"
   },
   {
    "duration": 298,
    "start_time": "2025-02-13T09:26:08.707Z"
   },
   {
    "duration": 199,
    "start_time": "2025-02-13T09:26:09.010Z"
   },
   {
    "duration": 337,
    "start_time": "2025-02-13T09:26:09.211Z"
   },
   {
    "duration": 3,
    "start_time": "2025-02-13T09:26:09.550Z"
   },
   {
    "duration": 217,
    "start_time": "2025-02-13T09:26:09.554Z"
   },
   {
    "duration": 421,
    "start_time": "2025-02-13T09:26:09.773Z"
   },
   {
    "duration": 169,
    "start_time": "2025-02-13T09:26:10.196Z"
   },
   {
    "duration": 4,
    "start_time": "2025-02-13T09:26:12.461Z"
   },
   {
    "duration": 4,
    "start_time": "2025-02-13T09:26:18.423Z"
   },
   {
    "duration": 4,
    "start_time": "2025-02-13T09:26:21.572Z"
   },
   {
    "duration": 4,
    "start_time": "2025-02-13T09:26:29.135Z"
   },
   {
    "duration": 4,
    "start_time": "2025-02-13T09:26:44.898Z"
   },
   {
    "duration": 4,
    "start_time": "2025-02-13T09:26:50.896Z"
   },
   {
    "duration": 5,
    "start_time": "2025-02-13T10:09:25.247Z"
   },
   {
    "duration": 75,
    "start_time": "2025-02-13T10:09:25.254Z"
   },
   {
    "duration": 8,
    "start_time": "2025-02-13T10:09:25.330Z"
   },
   {
    "duration": 11,
    "start_time": "2025-02-13T10:09:25.340Z"
   },
   {
    "duration": 15,
    "start_time": "2025-02-13T10:09:25.352Z"
   },
   {
    "duration": 323,
    "start_time": "2025-02-13T10:09:25.369Z"
   },
   {
    "duration": 135,
    "start_time": "2025-02-13T10:09:25.693Z"
   },
   {
    "duration": 8,
    "start_time": "2025-02-13T10:09:25.829Z"
   },
   {
    "duration": 11,
    "start_time": "2025-02-13T10:09:25.839Z"
   },
   {
    "duration": 14,
    "start_time": "2025-02-13T10:09:25.854Z"
   },
   {
    "duration": 6,
    "start_time": "2025-02-13T10:09:25.870Z"
   },
   {
    "duration": 14,
    "start_time": "2025-02-13T10:09:25.878Z"
   },
   {
    "duration": 20,
    "start_time": "2025-02-13T10:09:25.894Z"
   },
   {
    "duration": 5,
    "start_time": "2025-02-13T10:09:25.916Z"
   },
   {
    "duration": 9,
    "start_time": "2025-02-13T10:09:25.923Z"
   },
   {
    "duration": 8,
    "start_time": "2025-02-13T10:09:25.934Z"
   },
   {
    "duration": 11,
    "start_time": "2025-02-13T10:09:25.944Z"
   },
   {
    "duration": 16,
    "start_time": "2025-02-13T10:09:25.956Z"
   },
   {
    "duration": 38,
    "start_time": "2025-02-13T10:09:25.974Z"
   },
   {
    "duration": 5,
    "start_time": "2025-02-13T10:09:26.014Z"
   },
   {
    "duration": 5,
    "start_time": "2025-02-13T10:09:26.021Z"
   },
   {
    "duration": 59,
    "start_time": "2025-02-13T10:09:26.027Z"
   },
   {
    "duration": 68,
    "start_time": "2025-02-13T10:09:26.088Z"
   },
   {
    "duration": 11,
    "start_time": "2025-02-13T10:09:26.158Z"
   },
   {
    "duration": 23,
    "start_time": "2025-02-13T10:09:26.170Z"
   },
   {
    "duration": 56,
    "start_time": "2025-02-13T10:09:26.210Z"
   },
   {
    "duration": 34,
    "start_time": "2025-02-13T10:09:26.267Z"
   },
   {
    "duration": 63,
    "start_time": "2025-02-13T10:09:26.313Z"
   },
   {
    "duration": 46,
    "start_time": "2025-02-13T10:09:26.378Z"
   },
   {
    "duration": 192,
    "start_time": "2025-02-13T10:09:26.425Z"
   },
   {
    "duration": 206,
    "start_time": "2025-02-13T10:09:26.619Z"
   },
   {
    "duration": 296,
    "start_time": "2025-02-13T10:09:26.827Z"
   },
   {
    "duration": 3,
    "start_time": "2025-02-13T10:09:27.125Z"
   },
   {
    "duration": 208,
    "start_time": "2025-02-13T10:09:27.129Z"
   },
   {
    "duration": 278,
    "start_time": "2025-02-13T10:09:27.338Z"
   },
   {
    "duration": 151,
    "start_time": "2025-02-13T10:09:27.617Z"
   },
   {
    "duration": 4,
    "start_time": "2025-02-13T10:09:27.769Z"
   },
   {
    "duration": 141,
    "start_time": "2025-02-13T10:09:27.775Z"
   },
   {
    "duration": 9,
    "start_time": "2025-02-13T10:09:27.917Z"
   },
   {
    "duration": 5,
    "start_time": "2025-02-13T10:09:27.927Z"
   },
   {
    "duration": 134,
    "start_time": "2025-02-13T10:09:27.933Z"
   },
   {
    "duration": 224,
    "start_time": "2025-02-13T10:09:28.068Z"
   },
   {
    "duration": 18,
    "start_time": "2025-02-13T10:09:28.294Z"
   },
   {
    "duration": 56,
    "start_time": "2025-02-13T10:09:28.313Z"
   },
   {
    "duration": 546,
    "start_time": "2025-02-13T10:09:28.371Z"
   },
   {
    "duration": 2,
    "start_time": "2025-02-13T10:35:56.174Z"
   },
   {
    "duration": 2,
    "start_time": "2025-02-13T10:38:49.665Z"
   },
   {
    "duration": 8,
    "start_time": "2025-02-13T10:46:04.222Z"
   },
   {
    "duration": 15,
    "start_time": "2025-02-13T10:46:04.655Z"
   },
   {
    "duration": 9,
    "start_time": "2025-02-13T10:53:52.363Z"
   },
   {
    "duration": 8,
    "start_time": "2025-02-13T10:53:54.940Z"
   },
   {
    "duration": 46,
    "start_time": "2025-02-13T10:53:56.321Z"
   },
   {
    "duration": 9,
    "start_time": "2025-02-13T10:55:16.380Z"
   },
   {
    "duration": 19,
    "start_time": "2025-02-13T10:55:17.113Z"
   },
   {
    "duration": 80,
    "start_time": "2025-02-13T10:57:04.880Z"
   },
   {
    "duration": 93,
    "start_time": "2025-02-13T10:57:51.115Z"
   },
   {
    "duration": 111,
    "start_time": "2025-02-13T10:59:12.213Z"
   },
   {
    "duration": 12,
    "start_time": "2025-02-13T10:59:28.830Z"
   },
   {
    "duration": 52,
    "start_time": "2025-02-13T10:59:29.496Z"
   },
   {
    "duration": 9,
    "start_time": "2025-02-13T10:59:41.186Z"
   },
   {
    "duration": 19,
    "start_time": "2025-02-13T10:59:42.074Z"
   },
   {
    "duration": 92,
    "start_time": "2025-02-13T11:00:17.500Z"
   },
   {
    "duration": 94,
    "start_time": "2025-02-13T11:02:31.658Z"
   },
   {
    "duration": 1231,
    "start_time": "2025-02-13T11:03:45.448Z"
   },
   {
    "duration": 57,
    "start_time": "2025-02-13T11:03:46.682Z"
   },
   {
    "duration": 11,
    "start_time": "2025-02-13T11:03:46.741Z"
   },
   {
    "duration": 11,
    "start_time": "2025-02-13T11:03:46.754Z"
   },
   {
    "duration": 55,
    "start_time": "2025-02-13T11:03:46.767Z"
   },
   {
    "duration": 362,
    "start_time": "2025-02-13T11:03:46.824Z"
   },
   {
    "duration": 158,
    "start_time": "2025-02-13T11:03:47.188Z"
   },
   {
    "duration": 8,
    "start_time": "2025-02-13T11:03:47.347Z"
   },
   {
    "duration": 11,
    "start_time": "2025-02-13T11:03:47.357Z"
   },
   {
    "duration": 19,
    "start_time": "2025-02-13T11:03:47.370Z"
   },
   {
    "duration": 14,
    "start_time": "2025-02-13T11:03:47.390Z"
   },
   {
    "duration": 6,
    "start_time": "2025-02-13T11:03:47.406Z"
   },
   {
    "duration": 10,
    "start_time": "2025-02-13T11:03:47.413Z"
   },
   {
    "duration": 6,
    "start_time": "2025-02-13T11:03:47.426Z"
   },
   {
    "duration": 8,
    "start_time": "2025-02-13T11:03:47.434Z"
   },
   {
    "duration": 7,
    "start_time": "2025-02-13T11:03:47.444Z"
   },
   {
    "duration": 15,
    "start_time": "2025-02-13T11:03:47.453Z"
   },
   {
    "duration": 9,
    "start_time": "2025-02-13T11:03:47.469Z"
   },
   {
    "duration": 30,
    "start_time": "2025-02-13T11:03:47.480Z"
   },
   {
    "duration": 4,
    "start_time": "2025-02-13T11:03:47.512Z"
   },
   {
    "duration": 9,
    "start_time": "2025-02-13T11:03:47.518Z"
   },
   {
    "duration": 65,
    "start_time": "2025-02-13T11:03:47.529Z"
   },
   {
    "duration": 66,
    "start_time": "2025-02-13T11:03:47.595Z"
   },
   {
    "duration": 8,
    "start_time": "2025-02-13T11:03:47.662Z"
   },
   {
    "duration": 27,
    "start_time": "2025-02-13T11:03:47.671Z"
   },
   {
    "duration": 53,
    "start_time": "2025-02-13T11:03:47.710Z"
   },
   {
    "duration": 17,
    "start_time": "2025-02-13T11:03:47.765Z"
   },
   {
    "duration": 68,
    "start_time": "2025-02-13T11:03:47.784Z"
   },
   {
    "duration": 58,
    "start_time": "2025-02-13T11:03:47.853Z"
   },
   {
    "duration": 267,
    "start_time": "2025-02-13T11:03:47.913Z"
   },
   {
    "duration": 280,
    "start_time": "2025-02-13T11:03:48.182Z"
   },
   {
    "duration": 274,
    "start_time": "2025-02-13T11:03:48.464Z"
   },
   {
    "duration": 4,
    "start_time": "2025-02-13T11:03:48.740Z"
   },
   {
    "duration": 245,
    "start_time": "2025-02-13T11:03:48.745Z"
   },
   {
    "duration": 319,
    "start_time": "2025-02-13T11:03:48.992Z"
   },
   {
    "duration": 159,
    "start_time": "2025-02-13T11:03:49.313Z"
   },
   {
    "duration": 4,
    "start_time": "2025-02-13T11:03:49.473Z"
   },
   {
    "duration": 148,
    "start_time": "2025-02-13T11:03:49.479Z"
   },
   {
    "duration": 9,
    "start_time": "2025-02-13T11:03:49.629Z"
   },
   {
    "duration": 4,
    "start_time": "2025-02-13T11:03:49.641Z"
   },
   {
    "duration": 149,
    "start_time": "2025-02-13T11:03:49.649Z"
   },
   {
    "duration": 229,
    "start_time": "2025-02-13T11:03:49.800Z"
   },
   {
    "duration": 8,
    "start_time": "2025-02-13T11:03:50.031Z"
   },
   {
    "duration": 33,
    "start_time": "2025-02-13T11:03:50.040Z"
   },
   {
    "duration": 464,
    "start_time": "2025-02-13T11:03:50.075Z"
   },
   {
    "duration": 10,
    "start_time": "2025-02-13T11:03:50.540Z"
   },
   {
    "duration": 32,
    "start_time": "2025-02-13T11:03:50.552Z"
   },
   {
    "duration": 12,
    "start_time": "2025-02-13T11:03:50.586Z"
   },
   {
    "duration": 54,
    "start_time": "2025-02-13T11:03:50.599Z"
   },
   {
    "duration": 9,
    "start_time": "2025-02-13T11:03:50.654Z"
   },
   {
    "duration": 23,
    "start_time": "2025-02-13T11:03:50.664Z"
   },
   {
    "duration": 1546,
    "start_time": "2025-02-13T14:04:50.658Z"
   },
   {
    "duration": 106,
    "start_time": "2025-02-13T14:04:52.207Z"
   },
   {
    "duration": 16,
    "start_time": "2025-02-13T14:04:52.316Z"
   },
   {
    "duration": 20,
    "start_time": "2025-02-13T14:04:52.334Z"
   },
   {
    "duration": 85,
    "start_time": "2025-02-13T14:04:52.357Z"
   },
   {
    "duration": 413,
    "start_time": "2025-02-13T14:04:52.444Z"
   },
   {
    "duration": 243,
    "start_time": "2025-02-13T14:04:52.860Z"
   },
   {
    "duration": 14,
    "start_time": "2025-02-13T14:04:53.107Z"
   },
   {
    "duration": 42,
    "start_time": "2025-02-13T14:04:53.124Z"
   },
   {
    "duration": 37,
    "start_time": "2025-02-13T14:04:53.168Z"
   },
   {
    "duration": 27,
    "start_time": "2025-02-13T14:04:53.209Z"
   },
   {
    "duration": 11,
    "start_time": "2025-02-13T14:04:53.238Z"
   },
   {
    "duration": 10,
    "start_time": "2025-02-13T14:04:53.250Z"
   },
   {
    "duration": 7,
    "start_time": "2025-02-13T14:04:53.263Z"
   },
   {
    "duration": 7,
    "start_time": "2025-02-13T14:04:53.271Z"
   },
   {
    "duration": 35,
    "start_time": "2025-02-13T14:04:53.280Z"
   },
   {
    "duration": 33,
    "start_time": "2025-02-13T14:04:53.321Z"
   },
   {
    "duration": 20,
    "start_time": "2025-02-13T14:04:53.356Z"
   },
   {
    "duration": 48,
    "start_time": "2025-02-13T14:04:53.378Z"
   },
   {
    "duration": 17,
    "start_time": "2025-02-13T14:04:53.428Z"
   },
   {
    "duration": 15,
    "start_time": "2025-02-13T14:04:53.447Z"
   },
   {
    "duration": 73,
    "start_time": "2025-02-13T14:04:53.464Z"
   },
   {
    "duration": 82,
    "start_time": "2025-02-13T14:04:53.539Z"
   },
   {
    "duration": 12,
    "start_time": "2025-02-13T14:04:53.623Z"
   },
   {
    "duration": 26,
    "start_time": "2025-02-13T14:04:53.637Z"
   },
   {
    "duration": 87,
    "start_time": "2025-02-13T14:04:53.665Z"
   },
   {
    "duration": 19,
    "start_time": "2025-02-13T14:04:53.754Z"
   },
   {
    "duration": 84,
    "start_time": "2025-02-13T14:04:53.774Z"
   },
   {
    "duration": 73,
    "start_time": "2025-02-13T14:04:53.860Z"
   },
   {
    "duration": 398,
    "start_time": "2025-02-13T14:04:53.935Z"
   },
   {
    "duration": 348,
    "start_time": "2025-02-13T14:04:54.334Z"
   },
   {
    "duration": 362,
    "start_time": "2025-02-13T14:04:54.684Z"
   },
   {
    "duration": 4,
    "start_time": "2025-02-13T14:04:55.047Z"
   },
   {
    "duration": 394,
    "start_time": "2025-02-13T14:04:55.053Z"
   },
   {
    "duration": 404,
    "start_time": "2025-02-13T14:04:55.449Z"
   },
   {
    "duration": 217,
    "start_time": "2025-02-13T14:04:55.855Z"
   },
   {
    "duration": 4,
    "start_time": "2025-02-13T14:04:56.074Z"
   },
   {
    "duration": 192,
    "start_time": "2025-02-13T14:04:56.080Z"
   },
   {
    "duration": 10,
    "start_time": "2025-02-13T14:04:56.274Z"
   },
   {
    "duration": 37,
    "start_time": "2025-02-13T14:04:56.286Z"
   },
   {
    "duration": 158,
    "start_time": "2025-02-13T14:04:56.327Z"
   },
   {
    "duration": 288,
    "start_time": "2025-02-13T14:04:56.487Z"
   },
   {
    "duration": 10,
    "start_time": "2025-02-13T14:04:56.777Z"
   },
   {
    "duration": 44,
    "start_time": "2025-02-13T14:04:56.799Z"
   },
   {
    "duration": 575,
    "start_time": "2025-02-13T14:04:56.845Z"
   },
   {
    "duration": 12,
    "start_time": "2025-02-13T14:04:57.423Z"
   },
   {
    "duration": 13,
    "start_time": "2025-02-13T14:04:57.437Z"
   },
   {
    "duration": 11,
    "start_time": "2025-02-13T14:04:57.452Z"
   },
   {
    "duration": 88,
    "start_time": "2025-02-13T14:04:57.464Z"
   },
   {
    "duration": 10,
    "start_time": "2025-02-13T14:04:57.554Z"
   },
   {
    "duration": 39,
    "start_time": "2025-02-13T14:04:57.566Z"
   }
  ],
  "kernelspec": {
   "display_name": "Python 3 (ipykernel)",
   "language": "python",
   "name": "python3"
  },
  "language_info": {
   "codemirror_mode": {
    "name": "ipython",
    "version": 3
   },
   "file_extension": ".py",
   "mimetype": "text/x-python",
   "name": "python",
   "nbconvert_exporter": "python",
   "pygments_lexer": "ipython3",
   "version": "3.12.7"
  },
  "toc": {
   "base_numbering": 1,
   "nav_menu": {},
   "number_sections": true,
   "sideBar": true,
   "skip_h1_title": true,
   "title_cell": "Table of Contents",
   "title_sidebar": "Contents",
   "toc_cell": false,
   "toc_position": {
    "height": "calc(100% - 180px)",
    "left": "10px",
    "top": "150px",
    "width": "288px"
   },
   "toc_section_display": true,
   "toc_window_display": true
  }
 },
 "nbformat": 4,
 "nbformat_minor": 5
}
